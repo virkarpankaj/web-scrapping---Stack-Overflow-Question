{
 "cells": [
  {
   "cell_type": "code",
   "execution_count": 2,
   "id": "7f876c3f",
   "metadata": {},
   "outputs": [],
   "source": [
    "import pandas as pd\n",
    "\n",
    "import requests\n",
    "\n",
    "from bs4 import BeautifulSoup\n"
   ]
  },
  {
   "cell_type": "code",
   "execution_count": 3,
   "id": "a2280350",
   "metadata": {},
   "outputs": [
    {
     "name": "stdout",
     "output_type": "stream",
     "text": [
      "Newest 'python' Questions - Stack Overflow\n"
     ]
    }
   ],
   "source": [
    "url = 'https://stackoverflow.com/questions/tagged/python'\n",
    "\n",
    "headers = {'User-Agent':'Mozilla/5.0 (Windows NT 10.0; Win64; x64) AppleWebKit/537.36 (KHTML, like Gecko) Chrome/96.0.4664.110 Safari/537.36'}\n",
    "\n",
    "r = requests.get(url,headers = headers)\n",
    "\n",
    "soup = BeautifulSoup(r.content,'lxml')\n",
    "\n",
    "print(soup.title.text)"
   ]
  },
  {
   "cell_type": "code",
   "execution_count": 6,
   "id": "910145d6",
   "metadata": {
    "scrolled": true
   },
   "outputs": [
    {
     "name": "stdout",
     "output_type": "stream",
     "text": [
      "{'title': \"Can't render template, getting page not found (404) Django\", 'link': 'https://stackoverflow.com/questions/70607123/cant-render-template-getting-page-not-found-404-django', 'votes': 0, 'date': '2022-01-06 12:30:48Z'}\n",
      "{'title': 'How can i store result in cache?', 'link': 'https://stackoverflow.com/questions/70607122/how-can-i-store-result-in-cache', 'votes': 0, 'date': '2022-01-06 12:30:45Z'}\n",
      "{'title': 'make a text to speech app in python. for good pronunciation', 'link': 'https://stackoverflow.com/questions/70607109/make-a-text-to-speech-app-in-python-for-good-pronunciation', 'votes': 0, 'date': '2022-01-06 12:29:44Z'}\n",
      "{'title': \"Dash and Plotly plotting color markers doesn't appear to work and\", 'link': 'https://stackoverflow.com/questions/70607071/dash-and-plotly-plotting-color-markers-doesnt-appear-to-work-and', 'votes': 0, 'date': '2022-01-06 12:26:10Z'}\n",
      "{'title': 'How to integrate the Plotly dash with the flask app. How to connect them?', 'link': 'https://stackoverflow.com/questions/70607065/how-to-integrate-the-plotly-dash-with-the-flask-app-how-to-connect-them', 'votes': 0, 'date': '2022-01-06 12:25:30Z'}\n",
      "{'title': 'Python eel module doesn`t recognize JS functions', 'link': 'https://stackoverflow.com/questions/70607052/python-eel-module-doesnt-recognize-js-functions', 'votes': 0, 'date': '2022-01-06 12:24:28Z'}\n",
      "{'title': 'Beautiful Soup cannot find table on iShares', 'link': 'https://stackoverflow.com/questions/70607045/beautiful-soup-cannot-find-table-on-ishares', 'votes': 0, 'date': '2022-01-06 12:23:57Z'}\n",
      "{'title': 'ipywidget observe printing multiple times while write to file only once', 'link': 'https://stackoverflow.com/questions/70607035/ipywidget-observe-printing-multiple-times-while-write-to-file-only-once', 'votes': 0, 'date': '2022-01-06 12:22:10Z'}\n",
      "{'title': 'Equivalent of Verbose (in R) to Python', 'link': 'https://stackoverflow.com/questions/70607028/equivalent-of-verbose-in-r-to-python', 'votes': -2, 'date': '2022-01-06 12:21:43Z'}\n",
      "{'title': 'Flask api - is there any way to perform some operation on different process and process leave all his occupied memory when ended', 'link': 'https://stackoverflow.com/questions/70607014/flask-api-is-there-any-way-to-perform-some-operation-on-different-process-and', 'votes': 0, 'date': '2022-01-06 12:21:06Z'}\n",
      "{'title': 'Python Error: creating Pac-Man video game', 'link': 'https://stackoverflow.com/questions/70607013/python-error-creating-pac-man-video-game', 'votes': 0, 'date': '2022-01-06 12:21:04Z'}\n",
      "{'title': 'How to find and read injected script using addScriptToEvaluateOnNewDocument in Browser?', 'link': 'https://stackoverflow.com/questions/70607012/how-to-find-and-read-injected-script-using-addscripttoevaluateonnewdocument-in-b', 'votes': 0, 'date': '2022-01-06 12:20:59Z'}\n",
      "{'title': 'Searching for specific text in python', 'link': 'https://stackoverflow.com/questions/70606995/searching-for-specific-text-in-python', 'votes': 0, 'date': '2022-01-06 12:19:46Z'}\n",
      "{'title': 'How to continue a command in Tkinter', 'link': 'https://stackoverflow.com/questions/70606966/how-to-continue-a-command-in-tkinter', 'votes': 0, 'date': '2022-01-06 12:16:58Z'}\n",
      "{'title': \"Use flask's request context in Dash Plotly\", 'link': 'https://stackoverflow.com/questions/70606921/use-flasks-request-context-in-dash-plotly', 'votes': 0, 'date': '2022-01-06 12:12:49Z'}\n"
     ]
    }
   ],
   "source": [
    "questions = soup.find_all('div', {'class': 'question-summary'})\n",
    "\n",
    "for question in questions:\n",
    "    \n",
    "    qust = {\n",
    "    \n",
    "    'title' : question.find('a',{'class': 'question-hyperlink'}).text.strip(),\n",
    "    'link' :  'https://stackoverflow.com' + question.find('a',{'class': 'question-hyperlink'})['href'],\n",
    "    'votes' : int(question.find('span',{'class':'vote-count-post'}).text),\n",
    "    'date' : question.find('span',{'class':'relativetime'})['title'] \n",
    "            }\n",
    "    \n",
    "    print(qust)"
   ]
  },
  {
   "cell_type": "code",
   "execution_count": null,
   "id": "38f6e8cc",
   "metadata": {},
   "outputs": [],
   "source": []
  },
  {
   "cell_type": "code",
   "execution_count": 7,
   "id": "3704b9b6",
   "metadata": {
    "scrolled": true
   },
   "outputs": [
    {
     "name": "stdout",
     "output_type": "stream",
     "text": [
      "[{'title': \"Can't render template, getting page not found (404) Django\", 'link': 'https://stackoverflow.com/questions/70607123/cant-render-template-getting-page-not-found-404-django', 'votes': 0, 'date': '2022-01-06 12:30:48Z'}, {'title': 'How can i store result in cache?', 'link': 'https://stackoverflow.com/questions/70607122/how-can-i-store-result-in-cache', 'votes': 0, 'date': '2022-01-06 12:30:45Z'}, {'title': 'make a text to speech app in python. for good pronunciation', 'link': 'https://stackoverflow.com/questions/70607109/make-a-text-to-speech-app-in-python-for-good-pronunciation', 'votes': 0, 'date': '2022-01-06 12:29:44Z'}, {'title': \"Dash and Plotly plotting color markers doesn't appear to work and\", 'link': 'https://stackoverflow.com/questions/70607071/dash-and-plotly-plotting-color-markers-doesnt-appear-to-work-and', 'votes': 0, 'date': '2022-01-06 12:26:10Z'}, {'title': 'How to integrate the Plotly dash with the flask app. How to connect them?', 'link': 'https://stackoverflow.com/questions/70607065/how-to-integrate-the-plotly-dash-with-the-flask-app-how-to-connect-them', 'votes': 0, 'date': '2022-01-06 12:25:30Z'}, {'title': 'Python eel module doesn`t recognize JS functions', 'link': 'https://stackoverflow.com/questions/70607052/python-eel-module-doesnt-recognize-js-functions', 'votes': 0, 'date': '2022-01-06 12:24:28Z'}, {'title': 'Beautiful Soup cannot find table on iShares', 'link': 'https://stackoverflow.com/questions/70607045/beautiful-soup-cannot-find-table-on-ishares', 'votes': 0, 'date': '2022-01-06 12:23:57Z'}, {'title': 'ipywidget observe printing multiple times while write to file only once', 'link': 'https://stackoverflow.com/questions/70607035/ipywidget-observe-printing-multiple-times-while-write-to-file-only-once', 'votes': 0, 'date': '2022-01-06 12:22:10Z'}, {'title': 'Equivalent of Verbose (in R) to Python', 'link': 'https://stackoverflow.com/questions/70607028/equivalent-of-verbose-in-r-to-python', 'votes': -2, 'date': '2022-01-06 12:21:43Z'}, {'title': 'Flask api - is there any way to perform some operation on different process and process leave all his occupied memory when ended', 'link': 'https://stackoverflow.com/questions/70607014/flask-api-is-there-any-way-to-perform-some-operation-on-different-process-and', 'votes': 0, 'date': '2022-01-06 12:21:06Z'}, {'title': 'Python Error: creating Pac-Man video game', 'link': 'https://stackoverflow.com/questions/70607013/python-error-creating-pac-man-video-game', 'votes': 0, 'date': '2022-01-06 12:21:04Z'}, {'title': 'How to find and read injected script using addScriptToEvaluateOnNewDocument in Browser?', 'link': 'https://stackoverflow.com/questions/70607012/how-to-find-and-read-injected-script-using-addscripttoevaluateonnewdocument-in-b', 'votes': 0, 'date': '2022-01-06 12:20:59Z'}, {'title': 'Searching for specific text in python', 'link': 'https://stackoverflow.com/questions/70606995/searching-for-specific-text-in-python', 'votes': 0, 'date': '2022-01-06 12:19:46Z'}, {'title': 'How to continue a command in Tkinter', 'link': 'https://stackoverflow.com/questions/70606966/how-to-continue-a-command-in-tkinter', 'votes': 0, 'date': '2022-01-06 12:16:58Z'}, {'title': \"Use flask's request context in Dash Plotly\", 'link': 'https://stackoverflow.com/questions/70606921/use-flasks-request-context-in-dash-plotly', 'votes': 0, 'date': '2022-01-06 12:12:49Z'}]\n"
     ]
    }
   ],
   "source": [
    "questions = soup.find_all('div', {'class': 'question-summary'})\n",
    "\n",
    "question_list = []\n",
    "\n",
    "for question in questions:\n",
    "    \n",
    "    qust = {\n",
    "    \n",
    "    'title' : question.find('a',{'class': 'question-hyperlink'}).text.strip(),\n",
    "    'link' :  'https://stackoverflow.com' + question.find('a',{'class': 'question-hyperlink'})['href'],\n",
    "    'votes' : int(question.find('span',{'class':'vote-count-post'}).text),\n",
    "    'date' : question.find('span',{'class':'relativetime'})['title'] \n",
    "            }\n",
    "    \n",
    "    question_list.append(qust)\n",
    "    \n",
    "print(question_list)"
   ]
  },
  {
   "cell_type": "code",
   "execution_count": null,
   "id": "90c1e8e8",
   "metadata": {},
   "outputs": [],
   "source": []
  },
  {
   "cell_type": "code",
   "execution_count": 30,
   "id": "de7451c0",
   "metadata": {},
   "outputs": [],
   "source": [
    "# writing a function\n",
    "\n",
    "headers = {'User-Agent':'Mozilla/5.0 (Windows NT 10.0; Win64; x64) AppleWebKit/537.36 (KHTML, like Gecko) Chrome/96.0.4664.110 Safari/537.36'}\n",
    "\n",
    "question_list_cmplt = []   # Global Variable -- stores + updates on prev \n",
    "\n",
    "def getQuestions(lang):\n",
    "    \n",
    "    url = f'https://stackoverflow.com/questions/tagged/{lang}'\n",
    "\n",
    "    r = requests.get(url,headers = headers)\n",
    "\n",
    "    soup = BeautifulSoup(r.text,'html.parser')\n",
    "\n",
    "    questions = soup.find_all('div', {'class': 'question-summary'})\n",
    "    \n",
    "    for item in questions:\n",
    "        question = {\n",
    "        'title' : item.find('a',{'class': 'question-hyperlink'}).text,\n",
    "        'link' :  'https://stackoverflow.com' + item.find('a',{'class': 'question-hyperlink'})['href'],\n",
    "        'votes' : int(item.find('span',{'class':'vote-count-post'}).text),\n",
    "        'date' : item.find('span',{'class':'relativetime'})['title'] \n",
    "                }\n",
    "        question_list_cmplt.append(question)\n",
    "    return\n",
    "        "
   ]
  },
  {
   "cell_type": "code",
   "execution_count": 31,
   "id": "568815d9",
   "metadata": {},
   "outputs": [
    {
     "name": "stdout",
     "output_type": "stream",
     "text": [
      "[{'title': \"Requests. __init__() got an unexpected keyword argument 'strict'\", 'link': 'https://stackoverflow.com/questions/70607987/requests-init-got-an-unexpected-keyword-argument-strict', 'votes': 0, 'date': '2022-01-06 13:40:10Z'}, {'title': 'WEBSOCKET Financial data, cant get the data formatted in the right way: Dictionary values python', 'link': 'https://stackoverflow.com/questions/70607979/websocket-financial-data-cant-get-the-data-formatted-in-the-right-way-dictiona', 'votes': 0, 'date': '2022-01-06 13:39:46Z'}, {'title': 'linear regression to estimate partial deviative', 'link': 'https://stackoverflow.com/questions/70607879/linear-regression-to-estimate-partial-deviative', 'votes': -2, 'date': '2022-01-06 13:31:29Z'}, {'title': 'maximum recursion depth exceeded while calling a Python object in Django 3.0', 'link': 'https://stackoverflow.com/questions/70607877/maximum-recursion-depth-exceeded-while-calling-a-python-object-in-django-3-0', 'votes': 0, 'date': '2022-01-06 13:31:21Z'}, {'title': 'How Do I get my Discord Bot to Send a private message to another user using their user ID,I tried the following but it did not work', 'link': 'https://stackoverflow.com/questions/70607837/how-do-i-get-my-discord-bot-to-send-a-private-message-to-another-user-using-thei', 'votes': 0, 'date': '2022-01-06 13:28:49Z'}, {'title': 'Ubuntu 20.04: dataframe_image with Chrome: InitializeSandbox() called with multiple threads in process gpu-process', 'link': 'https://stackoverflow.com/questions/70607830/ubuntu-20-04-dataframe-image-with-chrome-initializesandbox-called-with-multi', 'votes': 0, 'date': '2022-01-06 13:27:58Z'}, {'title': 'Approximate function only with previous points', 'link': 'https://stackoverflow.com/questions/70607818/approximate-function-only-with-previous-points', 'votes': 0, 'date': '2022-01-06 13:26:51Z'}, {'title': 'Is it feasible to enable jupyterlab UI through DataprocClusterCreateOperator', 'link': 'https://stackoverflow.com/questions/70607804/is-it-feasible-to-enable-jupyterlab-ui-through-dataprocclustercreateoperator', 'votes': 0, 'date': '2022-01-06 13:26:06Z'}, {'title': 'How can I plot the contour lines of a function with vector variables in Python?', 'link': 'https://stackoverflow.com/questions/70607798/how-can-i-plot-the-contour-lines-of-a-function-with-vector-variables-in-python', 'votes': 0, 'date': '2022-01-06 13:25:37Z'}, {'title': 'Keras binary_crossentropy model always predicts 0', 'link': 'https://stackoverflow.com/questions/70607790/keras-binary-crossentropy-model-always-predicts-0', 'votes': 0, 'date': '2022-01-06 13:25:05Z'}, {'title': 'Can someone solve this question for me? I am new to oop', 'link': 'https://stackoverflow.com/questions/70607779/can-someone-solve-this-question-for-me-i-am-new-to-oop', 'votes': -7, 'date': '2022-01-06 13:24:05Z'}, {'title': 'How to remove days from datetime.date object', 'link': 'https://stackoverflow.com/questions/70607702/how-to-remove-days-from-datetime-date-object', 'votes': -1, 'date': '2022-01-06 13:16:29Z'}, {'title': 'GPU render slower than CPU render in Blender', 'link': 'https://stackoverflow.com/questions/70607701/gpu-render-slower-than-cpu-render-in-blender', 'votes': 0, 'date': '2022-01-06 13:16:27Z'}, {'title': 'How to create an asynchronous REST API in DJango?', 'link': 'https://stackoverflow.com/questions/70607673/how-to-create-an-asynchronous-rest-api-in-django', 'votes': -3, 'date': '2022-01-06 13:14:25Z'}, {'title': 'tkinter program to insert the button to the Scrollbar area)(inside)', 'link': 'https://stackoverflow.com/questions/70607664/tkinter-program-to-insert-the-button-to-the-scrollbar-areainside', 'votes': 0, 'date': '2022-01-06 13:13:39Z'}]\n"
     ]
    }
   ],
   "source": [
    "getQuestions('python')\n",
    "print(question_list_cmplt)"
   ]
  },
  {
   "cell_type": "code",
   "execution_count": 33,
   "id": "e5ce830a",
   "metadata": {},
   "outputs": [
    {
     "name": "stdout",
     "output_type": "stream",
     "text": [
      "45\n"
     ]
    }
   ],
   "source": [
    "getQuestions('streamlit')\n",
    "print(len(question_list_cmplt)) # due to Global variable"
   ]
  },
  {
   "cell_type": "code",
   "execution_count": 34,
   "id": "53a23225",
   "metadata": {
    "scrolled": true
   },
   "outputs": [
    {
     "name": "stdout",
     "output_type": "stream",
     "text": [
      "60\n"
     ]
    }
   ],
   "source": [
    "getQuestions('flask')\n",
    "print(len(question_list_cmplt))  # due to Global variable"
   ]
  },
  {
   "cell_type": "code",
   "execution_count": 35,
   "id": "e636f73a",
   "metadata": {},
   "outputs": [
    {
     "name": "stdout",
     "output_type": "stream",
     "text": [
      "75\n"
     ]
    }
   ],
   "source": [
    "getQuestions('python')\n",
    "print(len(question_list_cmplt))   # due to Global variable - addition"
   ]
  },
  {
   "cell_type": "code",
   "execution_count": null,
   "id": "e142a818",
   "metadata": {},
   "outputs": [],
   "source": []
  },
  {
   "cell_type": "code",
   "execution_count": null,
   "id": "7c93291e",
   "metadata": {},
   "outputs": [],
   "source": []
  },
  {
   "cell_type": "code",
   "execution_count": 46,
   "id": "ad7fadef",
   "metadata": {},
   "outputs": [
    {
     "name": "stdout",
     "output_type": "stream",
     "text": [
      "150\n"
     ]
    }
   ],
   "source": [
    "# writing a function for multiple page \n",
    "\n",
    "headers = {'User-Agent':'Mozilla/5.0 (Windows NT 10.0; Win64; x64) AppleWebKit/537.36 (KHTML, like Gecko) Chrome/96.0.4664.110 Safari/537.36'}\n",
    "\n",
    "question_list_cmplt2 = []  # Global variable\n",
    "\n",
    "def getQuestions2(lang,page_no):\n",
    "    \n",
    "    url = f'https://stackoverflow.com/questions/tagged/{lang}?tab=newest&page={page_no}&pagesize=15'\n",
    "\n",
    "    r = requests.get(url,headers = headers)\n",
    "\n",
    "    soup = BeautifulSoup(r.text,'html.parser')\n",
    "\n",
    "    questions = soup.find_all('div', {'class': 'question-summary'})\n",
    "    \n",
    "    for item in questions:\n",
    "        question = {\n",
    "        'title' : item.find('a',{'class': 'question-hyperlink'}).text,\n",
    "        'link' :  'https://stackoverflow.com' + item.find('a',{'class': 'question-hyperlink'})['href'],\n",
    "        'votes' : int(item.find('span',{'class':'vote-count-post'}).text),\n",
    "        'date' : item.find('span',{'class':'relativetime'})['title'] }\n",
    "        question_list_cmplt2.append(question)\n",
    "    return\n",
    "\n",
    "for x in range(1,11):\n",
    "    getQuestions2('python',x)\n",
    "\n",
    "print(len(question_list_cmplt2))\n",
    "    \n",
    "    "
   ]
  },
  {
   "cell_type": "code",
   "execution_count": 61,
   "id": "d495f8d1",
   "metadata": {},
   "outputs": [
    {
     "name": "stdout",
     "output_type": "stream",
     "text": [
      "[{'title': 'Why does mypy fail with \"incompatible type\" in Enum classmethod?', 'link': 'https://stackoverflow.com/questions/70608253/why-does-mypy-fail-with-incompatible-type-in-enum-classmethod', 'votes': 0, 'date': '2022-01-06 13:59:04Z'}, {'title': 'How to write code to multiply two numbers in GET, PUT and DELETE method in the same def using swagger [closed]', 'link': 'https://stackoverflow.com/questions/70608248/how-to-write-code-to-multiply-two-numbers-in-get-put-and-delete-method-in-the-s', 'votes': -1, 'date': '2022-01-06 13:58:44Z'}, {'title': 'HuggingFace Transformers not getting installed in VS Code', 'link': 'https://stackoverflow.com/questions/70608245/huggingface-transformers-not-getting-installed-in-vs-code', 'votes': 0, 'date': '2022-01-06 13:58:37Z'}, {'title': 'What is the best Python Library for touch screen App? [closed]', 'link': 'https://stackoverflow.com/questions/70608233/what-is-the-best-python-library-for-touch-screen-app', 'votes': 0, 'date': '2022-01-06 13:57:31Z'}, {'title': \"Tkinter Error: AttributeError: 'function' object has no attribute 'get'\", 'link': 'https://stackoverflow.com/questions/70608230/tkinter-error-attributeerror-function-object-has-no-attribute-get', 'votes': 0, 'date': '2022-01-06 13:57:24Z'}, {'title': 'Passing list by value in function by making temporary new list[Error]', 'link': 'https://stackoverflow.com/questions/70608225/passing-list-by-value-in-function-by-making-temporary-new-listerror', 'votes': -1, 'date': '2022-01-06 13:57:01Z'}, {'title': 'Heroku deployment of Fastapi (Python) running on uvicorn: Web process failed to bind to $PORT', 'link': 'https://stackoverflow.com/questions/70608215/heroku-deployment-of-fastapi-python-running-on-uvicorn-web-process-failed-to', 'votes': 0, 'date': '2022-01-06 13:56:14Z'}, {'title': 'Schema - Returning all errros', 'link': 'https://stackoverflow.com/questions/70608186/schema-returning-all-errros', 'votes': 0, 'date': '2022-01-06 13:54:36Z'}, {'title': 'Translation of python loop into R', 'link': 'https://stackoverflow.com/questions/70608170/translation-of-python-loop-into-r', 'votes': 0, 'date': '2022-01-06 13:53:00Z'}, {'title': 'How can I access a dictionary that is in a list [closed]', 'link': 'https://stackoverflow.com/questions/70608167/how-can-i-access-a-dictionary-that-is-in-a-list', 'votes': -2, 'date': '2022-01-06 13:52:43Z'}, {'title': 'Why does the vehicle not perform the lane-changing using changeSublane method?', 'link': 'https://stackoverflow.com/questions/70608158/why-does-the-vehicle-not-perform-the-lane-changing-using-changesublane-method', 'votes': -1, 'date': '2022-01-06 13:52:13Z'}, {'title': 'Send batch emails with different content Sendgrid', 'link': 'https://stackoverflow.com/questions/70608145/send-batch-emails-with-different-content-sendgrid', 'votes': 0, 'date': '2022-01-06 13:51:40Z'}, {'title': 'Create groups of N items from a list?', 'link': 'https://stackoverflow.com/questions/70608129/create-groups-of-n-items-from-a-list', 'votes': 0, 'date': '2022-01-06 13:50:36Z'}, {'title': 'object tracking select a interested object among multiple object', 'link': 'https://stackoverflow.com/questions/70608103/object-tracking-select-a-interested-object-among-multiple-object', 'votes': 0, 'date': '2022-01-06 13:48:17Z'}, {'title': 'conda install different packages from different channels in one line', 'link': 'https://stackoverflow.com/questions/70608096/conda-install-different-packages-from-different-channels-in-one-line', 'votes': 0, 'date': '2022-01-06 13:47:49Z'}, {'title': 'how many frames does OPEN CV produce?', 'link': 'https://stackoverflow.com/questions/70608082/how-many-frames-does-open-cv-produce', 'votes': 0, 'date': '2022-01-06 13:47:02Z'}, {'title': 'Getting the error message \"raise CalledProcessError(retcode, cmd)\" when using the cat command from a python script', 'link': 'https://stackoverflow.com/questions/70608072/getting-the-error-message-raise-calledprocesserrorretcode-cmd-when-using-th', 'votes': 0, 'date': '2022-01-06 13:46:22Z'}, {'title': 'Find comments related to specific topic (nlp)', 'link': 'https://stackoverflow.com/questions/70608071/find-comments-related-to-specific-topic-nlp', 'votes': 0, 'date': '2022-01-06 13:46:17Z'}, {'title': 'get top view of the image - cv2 Python', 'link': 'https://stackoverflow.com/questions/70608065/get-top-view-of-the-image-cv2-python', 'votes': 0, 'date': '2022-01-06 13:45:45Z'}, {'title': 'Merge CSV Files with different headers', 'link': 'https://stackoverflow.com/questions/70608063/merge-csv-files-with-different-headers', 'votes': 0, 'date': '2022-01-06 13:45:33Z'}, {'title': 'How to write unit test case for try except Exception as e block python', 'link': 'https://stackoverflow.com/questions/70608053/how-to-write-unit-test-case-for-try-except-exception-as-e-block-python', 'votes': 0, 'date': '2022-01-06 13:44:35Z'}, {'title': 'Pandas is not showing data in descending order', 'link': 'https://stackoverflow.com/questions/70608046/pandas-is-not-showing-data-in-descending-order', 'votes': -1, 'date': '2022-01-06 13:44:08Z'}, {'title': 'Column-wise subtraction calculations in python 3', 'link': 'https://stackoverflow.com/questions/70608036/column-wise-subtraction-calculations-in-python-3', 'votes': -1, 'date': '2022-01-06 13:43:20Z'}, {'title': 'How to predict a drawing with tensorflow', 'link': 'https://stackoverflow.com/questions/70608035/how-to-predict-a-drawing-with-tensorflow', 'votes': -1, 'date': '2022-01-06 13:43:17Z'}, {'title': 'How can I refactor this python script better?', 'link': 'https://stackoverflow.com/questions/70608032/how-can-i-refactor-this-python-script-better', 'votes': 0, 'date': '2022-01-06 13:43:07Z'}, {'title': 'Working with concurrent.futures.ThreadPoolExecutor', 'link': 'https://stackoverflow.com/questions/70608017/working-with-concurrent-futures-threadpoolexecutor', 'votes': 0, 'date': '2022-01-06 13:42:22Z'}, {'title': 'Is there a way to extract the selected value in a nested Dictionary using a for loop?', 'link': 'https://stackoverflow.com/questions/70608016/is-there-a-way-to-extract-the-selected-value-in-a-nested-dictionary-using-a-for', 'votes': 0, 'date': '2022-01-06 13:42:17Z'}, {'title': \"Requests. __init__() got an unexpected keyword argument 'strict'\", 'link': 'https://stackoverflow.com/questions/70607987/requests-init-got-an-unexpected-keyword-argument-strict', 'votes': 0, 'date': '2022-01-06 13:40:10Z'}, {'title': 'WEBSOCKET Financial data, cant get the data formatted in the right way: Dictionary values python', 'link': 'https://stackoverflow.com/questions/70607979/websocket-financial-data-cant-get-the-data-formatted-in-the-right-way-dictiona', 'votes': 0, 'date': '2022-01-06 13:39:46Z'}, {'title': 'linear regression to estimate partial deviative', 'link': 'https://stackoverflow.com/questions/70607879/linear-regression-to-estimate-partial-deviative', 'votes': -2, 'date': '2022-01-06 13:31:29Z'}, {'title': 'maximum recursion depth exceeded while calling a Python object in Django 3.0', 'link': 'https://stackoverflow.com/questions/70607877/maximum-recursion-depth-exceeded-while-calling-a-python-object-in-django-3-0', 'votes': 0, 'date': '2022-01-06 13:31:21Z'}, {'title': 'How Do I get my Discord Bot to Send a private message to another user using their user ID,I tried the following but it did not work', 'link': 'https://stackoverflow.com/questions/70607837/how-do-i-get-my-discord-bot-to-send-a-private-message-to-another-user-using-thei', 'votes': 0, 'date': '2022-01-06 13:28:49Z'}, {'title': 'Ubuntu 20.04: dataframe_image with Chrome: InitializeSandbox() called with multiple threads in process gpu-process', 'link': 'https://stackoverflow.com/questions/70607830/ubuntu-20-04-dataframe-image-with-chrome-initializesandbox-called-with-multi', 'votes': 0, 'date': '2022-01-06 13:27:58Z'}, {'title': 'Approximate function only with previous points', 'link': 'https://stackoverflow.com/questions/70607818/approximate-function-only-with-previous-points', 'votes': 0, 'date': '2022-01-06 13:26:51Z'}, {'title': 'Is it feasible to enable jupyterlab UI through DataprocClusterCreateOperator', 'link': 'https://stackoverflow.com/questions/70607804/is-it-feasible-to-enable-jupyterlab-ui-through-dataprocclustercreateoperator', 'votes': 0, 'date': '2022-01-06 13:26:06Z'}, {'title': 'How can I plot the contour lines of a function with vector variables in Python?', 'link': 'https://stackoverflow.com/questions/70607798/how-can-i-plot-the-contour-lines-of-a-function-with-vector-variables-in-python', 'votes': 0, 'date': '2022-01-06 13:25:37Z'}, {'title': 'Keras binary_crossentropy model always predicts 0', 'link': 'https://stackoverflow.com/questions/70607790/keras-binary-crossentropy-model-always-predicts-0', 'votes': 0, 'date': '2022-01-06 13:25:05Z'}, {'title': 'Can someone solve this question for me? I am new to oop [closed]', 'link': 'https://stackoverflow.com/questions/70607779/can-someone-solve-this-question-for-me-i-am-new-to-oop', 'votes': -9, 'date': '2022-01-06 13:24:05Z'}, {'title': 'How to remove days from datetime.date object', 'link': 'https://stackoverflow.com/questions/70607702/how-to-remove-days-from-datetime-date-object', 'votes': -1, 'date': '2022-01-06 13:16:29Z'}, {'title': 'GPU render slower than CPU render in Blender', 'link': 'https://stackoverflow.com/questions/70607701/gpu-render-slower-than-cpu-render-in-blender', 'votes': 0, 'date': '2022-01-06 13:16:27Z'}, {'title': 'How to create an asynchronous REST API in DJango? [closed]', 'link': 'https://stackoverflow.com/questions/70607673/how-to-create-an-asynchronous-rest-api-in-django', 'votes': -3, 'date': '2022-01-06 13:14:25Z'}, {'title': 'tkinter program to insert the button to the Scrollbar area)(inside)', 'link': 'https://stackoverflow.com/questions/70607664/tkinter-program-to-insert-the-button-to-the-scrollbar-areainside', 'votes': 0, 'date': '2022-01-06 13:13:39Z'}, {'title': 'Why do some Python smtplib messages deliver to Gmail spam folder?', 'link': 'https://stackoverflow.com/questions/70607640/why-do-some-python-smtplib-messages-deliver-to-gmail-spam-folder', 'votes': 0, 'date': '2022-01-06 13:12:17Z'}, {'title': 'Passing a value form python file to the iOS app', 'link': 'https://stackoverflow.com/questions/70607609/passing-a-value-form-python-file-to-the-ios-app', 'votes': 0, 'date': '2022-01-06 13:09:55Z'}, {'title': 'Iterating over lists in pandas dataframe to remove everything after certain value (if the value exists) in list', 'link': 'https://stackoverflow.com/questions/70607595/iterating-over-lists-in-pandas-dataframe-to-remove-everything-after-certain-valu', 'votes': 0, 'date': '2022-01-06 13:08:51Z'}, {'title': 'Edit multiple xml files in different folders', 'link': 'https://stackoverflow.com/questions/70607576/edit-multiple-xml-files-in-different-folders', 'votes': 0, 'date': '2022-01-06 13:07:22Z'}, {'title': 'Groupby lists in Pandas', 'link': 'https://stackoverflow.com/questions/70607562/groupby-lists-in-pandas', 'votes': 1, 'date': '2022-01-06 13:06:04Z'}, {'title': 'Sum of values per column in Spark', 'link': 'https://stackoverflow.com/questions/70607560/sum-of-values-per-column-in-spark', 'votes': -1, 'date': '2022-01-06 13:05:54Z'}, {'title': 'AttributeError on a function', 'link': 'https://stackoverflow.com/questions/70607502/attributeerror-on-a-function', 'votes': -2, 'date': '2022-01-06 13:01:19Z'}, {'title': 'add language in python searching google', 'link': 'https://stackoverflow.com/questions/70607497/add-language-in-python-searching-google', 'votes': -1, 'date': '2022-01-06 13:01:08Z'}, {'title': 'Python Pie chart in Matplotlib or Altair from two categorical data', 'link': 'https://stackoverflow.com/questions/70607476/python-pie-chart-in-matplotlib-or-altair-from-two-categorical-data', 'votes': 0, 'date': '2022-01-06 12:59:10Z'}, {'title': 'Click.Argument does not throw Error for missing argument', 'link': 'https://stackoverflow.com/questions/70607472/click-argument-does-not-throw-error-for-missing-argument', 'votes': 0, 'date': '2022-01-06 12:59:08Z'}, {'title': 'Determine the network interface which a new connection established from - Python socket', 'link': 'https://stackoverflow.com/questions/70607467/determine-the-network-interface-which-a-new-connection-established-from-python', 'votes': 0, 'date': '2022-01-06 12:58:42Z'}, {'title': 'In Python, when I call multiprocessing.Manager() ,console tell me that \"module \\'sys\\' has no attribute \\'argv\\'\"', 'link': 'https://stackoverflow.com/questions/70607460/in-python-when-i-call-multiprocessing-manager-console-tell-me-that-module', 'votes': 0, 'date': '2022-01-06 12:58:05Z'}, {'title': 'Reverse dictionary attributes set to ids?', 'link': 'https://stackoverflow.com/questions/70607437/reverse-dictionary-attributes-set-to-ids', 'votes': -1, 'date': '2022-01-06 12:56:21Z'}, {'title': 'Error in difference between dates in a Pandas DataFrame', 'link': 'https://stackoverflow.com/questions/70607424/error-in-difference-between-dates-in-a-pandas-dataframe', 'votes': 0, 'date': '2022-01-06 12:54:52Z'}, {'title': 'How to find screen coordinates of found text?', 'link': 'https://stackoverflow.com/questions/70607418/how-to-find-screen-coordinates-of-found-text', 'votes': 0, 'date': '2022-01-06 12:54:15Z'}, {'title': 'How to make pie chart subplots from a percentages dataframe in Python?', 'link': 'https://stackoverflow.com/questions/70607411/how-to-make-pie-chart-subplots-from-a-percentages-dataframe-in-python', 'votes': -1, 'date': '2022-01-06 12:53:44Z'}, {'title': 'Change tick text in matplotlib chart', 'link': 'https://stackoverflow.com/questions/70607402/change-tick-text-in-matplotlib-chart', 'votes': 0, 'date': '2022-01-06 12:53:07Z'}, {'title': 'Is it possbile to creat a pictrue from a code 128 with reportlab?', 'link': 'https://stackoverflow.com/questions/70607394/is-it-possbile-to-creat-a-pictrue-from-a-code-128-with-reportlab', 'votes': 0, 'date': '2022-01-06 12:52:04Z'}, {'title': 'how to create a plot of a function on the interval 𝑥∈[−12,12]', 'link': 'https://stackoverflow.com/questions/70607390/how-to-create-a-plot-of-a-function-on-the-interval-%e2%88%88%e2%88%9212-12', 'votes': 0, 'date': '2022-01-06 12:51:54Z'}, {'title': 'How to segment a gaussian function to equal-volume parts', 'link': 'https://stackoverflow.com/questions/70607362/how-to-segment-a-gaussian-function-to-equal-volume-parts', 'votes': 0, 'date': '2022-01-06 12:49:48Z'}, {'title': 'Sparse Categorical CrossEntropy causing NAN loss', 'link': 'https://stackoverflow.com/questions/70607355/sparse-categorical-crossentropy-causing-nan-loss', 'votes': 0, 'date': '2022-01-06 12:48:54Z'}, {'title': 'Failed to process SRS definition', 'link': 'https://stackoverflow.com/questions/70607348/failed-to-process-srs-definition', 'votes': 0, 'date': '2022-01-06 12:48:25Z'}, {'title': 'Regular webcam vs Module v2?', 'link': 'https://stackoverflow.com/questions/70607345/regular-webcam-vs-module-v2', 'votes': 0, 'date': '2022-01-06 12:48:15Z'}, {'title': 'Passing a string variable to pandas dataframe giving KeyError:', 'link': 'https://stackoverflow.com/questions/70607341/passing-a-string-variable-to-pandas-dataframe-giving-keyerror', 'votes': 0, 'date': '2022-01-06 12:48:08Z'}, {'title': 'How to only allow the top frame verticaly stretch', 'link': 'https://stackoverflow.com/questions/70607333/how-to-only-allow-the-top-frame-verticaly-stretch', 'votes': 0, 'date': '2022-01-06 12:47:35Z'}, {'title': 'Calling an async function from a class', 'link': 'https://stackoverflow.com/questions/70607317/calling-an-async-function-from-a-class', 'votes': 0, 'date': '2022-01-06 12:46:29Z'}, {'title': 'United color bar for all subplots in matplotlib', 'link': 'https://stackoverflow.com/questions/70607308/united-color-bar-for-all-subplots-in-matplotlib', 'votes': 0, 'date': '2022-01-06 12:45:59Z'}, {'title': \"How do I specify number of floating point digits in the output of numpy's random function?\", 'link': 'https://stackoverflow.com/questions/70607269/how-do-i-specify-number-of-floating-point-digits-in-the-output-of-numpys-random', 'votes': 0, 'date': '2022-01-06 12:43:29Z'}, {'title': 'Cannot convert python script to exe using pyinstaller due to package not found error', 'link': 'https://stackoverflow.com/questions/70607241/cannot-convert-python-script-to-exe-using-pyinstaller-due-to-package-not-found-e', 'votes': 0, 'date': '2022-01-06 12:40:31Z'}, {'title': \"HuggingFace - 'optimum' ModuleNotFoundError\", 'link': 'https://stackoverflow.com/questions/70607224/huggingface-optimum-modulenotfounderror', 'votes': 0, 'date': '2022-01-06 12:39:23Z'}, {'title': 'Why is this approach to print the frequency of each character of a given string not working?', 'link': 'https://stackoverflow.com/questions/70607216/why-is-this-approach-to-print-the-frequency-of-each-character-of-a-given-string', 'votes': -1, 'date': '2022-01-06 12:38:45Z'}, {'title': 'How to use multithreading to run DHT22 temperature sensor with Tkinter GUI on Python', 'link': 'https://stackoverflow.com/questions/70607215/how-to-use-multithreading-to-run-dht22-temperature-sensor-with-tkinter-gui-on-py', 'votes': 0, 'date': '2022-01-06 12:38:43Z'}, {'title': 'Concatenating strings across two rows in pandas dataframes', 'link': 'https://stackoverflow.com/questions/70607198/concatenating-strings-across-two-rows-in-pandas-dataframes', 'votes': 0, 'date': '2022-01-06 12:36:52Z'}, {'title': 'Adding dependent value gurobi', 'link': 'https://stackoverflow.com/questions/70607197/adding-dependent-value-gurobi', 'votes': 0, 'date': '2022-01-06 12:36:50Z'}, {'title': 'do I necessarily need a parameter while using the sort function in python? [duplicate]', 'link': 'https://stackoverflow.com/questions/70607188/do-i-necessarily-need-a-parameter-while-using-the-sort-function-in-python', 'votes': -1, 'date': '2022-01-06 12:35:53Z'}, {'title': 'Can I run a cell in a Jupyter notebook while another cell is running?', 'link': 'https://stackoverflow.com/questions/70607175/can-i-run-a-cell-in-a-jupyter-notebook-while-another-cell-is-running', 'votes': 0, 'date': '2022-01-06 12:35:02Z'}, {'title': 'With JSON logs can I merge multiple values under a single key', 'link': 'https://stackoverflow.com/questions/70607150/with-json-logs-can-i-merge-multiple-values-under-a-single-key', 'votes': 0, 'date': '2022-01-06 12:32:54Z'}, {'title': \"Python multiprocessing.pool.MaybeEncodingError cannot pickle 'SSLContext Error\", 'link': 'https://stackoverflow.com/questions/70607149/python-multiprocessing-pool-maybeencodingerror-cannot-pickle-sslcontext-error', 'votes': 0, 'date': '2022-01-06 12:32:53Z'}, {'title': 'Sort elements in list based on length first and alphabetical order second', 'link': 'https://stackoverflow.com/questions/70607146/sort-elements-in-list-based-on-length-first-and-alphabetical-order-second', 'votes': 0, 'date': '2022-01-06 12:32:44Z'}, {'title': 'Why does while loop with keyboard.wait() crash window after some time? [duplicate]', 'link': 'https://stackoverflow.com/questions/70607136/why-does-while-loop-with-keyboard-wait-crash-window-after-some-time', 'votes': 0, 'date': '2022-01-06 12:32:09Z'}, {'title': \"Can't render template, getting page not found (404) Django\", 'link': 'https://stackoverflow.com/questions/70607123/cant-render-template-getting-page-not-found-404-django', 'votes': 0, 'date': '2022-01-06 12:30:48Z'}, {'title': 'How can i store result in cache?', 'link': 'https://stackoverflow.com/questions/70607122/how-can-i-store-result-in-cache', 'votes': 0, 'date': '2022-01-06 12:30:45Z'}, {'title': \"Dash and Plotly plotting color markers doesn't appear to work and\", 'link': 'https://stackoverflow.com/questions/70607071/dash-and-plotly-plotting-color-markers-doesnt-appear-to-work-and', 'votes': 1, 'date': '2022-01-06 12:26:10Z'}, {'title': 'How to integrate the Plotly dash with the flask app. How to connect them?', 'link': 'https://stackoverflow.com/questions/70607065/how-to-integrate-the-plotly-dash-with-the-flask-app-how-to-connect-them', 'votes': 0, 'date': '2022-01-06 12:25:30Z'}, {'title': 'Python eel module doesn`t recognize JS functions', 'link': 'https://stackoverflow.com/questions/70607052/python-eel-module-doesnt-recognize-js-functions', 'votes': 0, 'date': '2022-01-06 12:24:28Z'}, {'title': 'Beautiful Soup cannot find table on iShares', 'link': 'https://stackoverflow.com/questions/70607045/beautiful-soup-cannot-find-table-on-ishares', 'votes': 0, 'date': '2022-01-06 12:23:57Z'}, {'title': 'ipywidget observe printing multiple times while write to file only once', 'link': 'https://stackoverflow.com/questions/70607035/ipywidget-observe-printing-multiple-times-while-write-to-file-only-once', 'votes': 0, 'date': '2022-01-06 12:22:10Z'}, {'title': 'Equivalent of Verbose (in R) to Python [closed]', 'link': 'https://stackoverflow.com/questions/70607028/equivalent-of-verbose-in-r-to-python', 'votes': -3, 'date': '2022-01-06 12:21:43Z'}, {'title': 'Flask api - is there any way to perform some operation on different process and process leave all his occupied memory when ended', 'link': 'https://stackoverflow.com/questions/70607014/flask-api-is-there-any-way-to-perform-some-operation-on-different-process-and', 'votes': 0, 'date': '2022-01-06 12:21:06Z'}, {'title': 'Python Error: creating Pac-Man video game [closed]', 'link': 'https://stackoverflow.com/questions/70607013/python-error-creating-pac-man-video-game', 'votes': -1, 'date': '2022-01-06 12:21:04Z'}, {'title': 'How to find and read injected script using addScriptToEvaluateOnNewDocument in Browser?', 'link': 'https://stackoverflow.com/questions/70607012/how-to-find-and-read-injected-script-using-addscripttoevaluateonnewdocument-in-b', 'votes': 0, 'date': '2022-01-06 12:20:59Z'}, {'title': 'Searching for specific text in python', 'link': 'https://stackoverflow.com/questions/70606995/searching-for-specific-text-in-python', 'votes': 0, 'date': '2022-01-06 12:19:46Z'}, {'title': 'How to continue a command in Tkinter', 'link': 'https://stackoverflow.com/questions/70606966/how-to-continue-a-command-in-tkinter', 'votes': 0, 'date': '2022-01-06 12:16:58Z'}, {'title': \"Use flask's request context in Dash Plotly\", 'link': 'https://stackoverflow.com/questions/70606921/use-flasks-request-context-in-dash-plotly', 'votes': 0, 'date': '2022-01-06 12:12:49Z'}, {'title': \"Django Unit Test Case for Models, Serializers, URL's & Views\", 'link': 'https://stackoverflow.com/questions/70606896/django-unit-test-case-for-models-serializers-urls-views', 'votes': 0, 'date': '2022-01-06 12:09:01Z'}, {'title': 'Can\\'t receive any data from websocket - Only \"sleeping to keep loop open\"', 'link': 'https://stackoverflow.com/questions/70606891/cant-receive-any-data-from-websocket-only-sleeping-to-keep-loop-open', 'votes': 0, 'date': '2022-01-06 12:08:52Z'}, {'title': 'Select time field dynamically in django forms', 'link': 'https://stackoverflow.com/questions/70606853/select-time-field-dynamically-in-django-forms', 'votes': 0, 'date': '2022-01-06 12:06:06Z'}, {'title': \"ModuleNotFoundError: No module named 'PySide2' while trying to use poetry env\", 'link': 'https://stackoverflow.com/questions/70606849/modulenotfounderror-no-module-named-pyside2-while-trying-to-use-poetry-env', 'votes': 0, 'date': '2022-01-06 12:05:34Z'}, {'title': 'Assigning True/False if a token is present in a data-frame', 'link': 'https://stackoverflow.com/questions/70606847/assigning-true-false-if-a-token-is-present-in-a-data-frame', 'votes': 2, 'date': '2022-01-06 12:05:30Z'}, {'title': 'create a column with values from other columns', 'link': 'https://stackoverflow.com/questions/70606842/create-a-column-with-values-from-other-columns', 'votes': -3, 'date': '2022-01-06 12:05:01Z'}, {'title': 'Delete column and row index from dataframe without changing the pandas dataframe structure', 'link': 'https://stackoverflow.com/questions/70606830/delete-column-and-row-index-from-dataframe-without-changing-the-pandas-dataframe', 'votes': -3, 'date': '2022-01-06 12:04:15Z'}, {'title': 'Select only certain fields from the model using SqlAlchemy Core', 'link': 'https://stackoverflow.com/questions/70606811/select-only-certain-fields-from-the-model-using-sqlalchemy-core', 'votes': 0, 'date': '2022-01-06 12:02:44Z'}, {'title': 'Unable to set list of lists as series onto dataframe column', 'link': 'https://stackoverflow.com/questions/70606792/unable-to-set-list-of-lists-as-series-onto-dataframe-column', 'votes': 0, 'date': '2022-01-06 12:01:09Z'}, {'title': 'Time Distributed Dense Layer Input Shape Problem', 'link': 'https://stackoverflow.com/questions/70606764/time-distributed-dense-layer-input-shape-problem', 'votes': 0, 'date': '2022-01-06 11:59:07Z'}, {'title': 'Transform dictionary with ddmmYYYY values into a Dataframe with counts per mmYYYY in columns', 'link': 'https://stackoverflow.com/questions/70606761/transform-dictionary-with-ddmmyyyy-values-into-a-dataframe-with-counts-per-mmyyy', 'votes': 0, 'date': '2022-01-06 11:58:38Z'}, {'title': 'Calculated column based on secondary key in Pandas Dataframe', 'link': 'https://stackoverflow.com/questions/70606755/calculated-column-based-on-secondary-key-in-pandas-dataframe', 'votes': -1, 'date': '2022-01-06 11:58:09Z'}, {'title': \"Persisting Python error: No module named 'google'\", 'link': 'https://stackoverflow.com/questions/70606752/persisting-python-error-no-module-named-google', 'votes': 0, 'date': '2022-01-06 11:57:54Z'}, {'title': 'Convert numpy array from space separated to comma separated in python', 'link': 'https://stackoverflow.com/questions/70606751/convert-numpy-array-from-space-separated-to-comma-separated-in-python', 'votes': 0, 'date': '2022-01-06 11:57:52Z'}, {'title': 'NaNs randomly appearing during training', 'link': 'https://stackoverflow.com/questions/70606733/nans-randomly-appearing-during-training', 'votes': 0, 'date': '2022-01-06 11:55:55Z'}, {'title': 'How to create column based on other column and probably using regex in pandas?', 'link': 'https://stackoverflow.com/questions/70606729/how-to-create-column-based-on-other-column-and-probably-using-regex-in-pandas', 'votes': 0, 'date': '2022-01-06 11:54:51Z'}, {'title': 'How is the Warshall algorithm different from Floyd algorithm in python?', 'link': 'https://stackoverflow.com/questions/70606708/how-is-the-warshall-algorithm-different-from-floyd-algorithm-in-python', 'votes': 0, 'date': '2022-01-06 11:53:22Z'}, {'title': 'How to Index an Image (PIL) type array', 'link': 'https://stackoverflow.com/questions/70606707/how-to-index-an-image-pil-type-array', 'votes': 0, 'date': '2022-01-06 11:53:21Z'}, {'title': 'How get Conditional average on date in DataFraem?', 'link': 'https://stackoverflow.com/questions/70606691/how-get-conditional-average-on-date-in-datafraem', 'votes': 0, 'date': '2022-01-06 11:52:03Z'}, {'title': 'Read and Write JSON online', 'link': 'https://stackoverflow.com/questions/70606686/read-and-write-json-online', 'votes': -1, 'date': '2022-01-06 11:51:30Z'}, {'title': 'LIGHTGBM pickle output not working with multiple SANIC workers (>1) but working with single worker', 'link': 'https://stackoverflow.com/questions/70606674/lightgbm-pickle-output-not-working-with-multiple-sanic-workers-1-but-working', 'votes': 0, 'date': '2022-01-06 11:50:28Z'}, {'title': 'Solving \"CUDA out of memory\" when fine-tuning GPT-2 (HuggingFace)', 'link': 'https://stackoverflow.com/questions/70606666/solving-cuda-out-of-memory-when-fine-tuning-gpt-2-huggingface', 'votes': 0, 'date': '2022-01-06 11:49:14Z'}, {'title': 'Unable to find bug in countdown timer', 'link': 'https://stackoverflow.com/questions/70606664/unable-to-find-bug-in-countdown-timer', 'votes': -1, 'date': '2022-01-06 11:48:57Z'}, {'title': 'Importing a package module, created in Pypi, results in module not found', 'link': 'https://stackoverflow.com/questions/70606652/importing-a-package-module-created-in-pypi-results-in-module-not-found', 'votes': 0, 'date': '2022-01-06 11:47:45Z'}, {'title': 'How to group these base on same address?', 'link': 'https://stackoverflow.com/questions/70606650/how-to-group-these-base-on-same-address', 'votes': 0, 'date': '2022-01-06 11:47:36Z'}, {'title': 'How do I add variables within string in python?', 'link': 'https://stackoverflow.com/questions/70606641/how-do-i-add-variables-within-string-in-python', 'votes': 0, 'date': '2022-01-06 11:47:11Z'}, {'title': 'python selenium joining items in a list', 'link': 'https://stackoverflow.com/questions/70606633/python-selenium-joining-items-in-a-list', 'votes': 0, 'date': '2022-01-06 11:46:40Z'}, {'title': '(Tkinter) Making a frame transparent without making the whole window transparent', 'link': 'https://stackoverflow.com/questions/70606629/tkinter-making-a-frame-transparent-without-making-the-whole-window-transparent', 'votes': 0, 'date': '2022-01-06 11:45:53Z'}, {'title': 'PyTesseract - blacklisting chars in a specific position', 'link': 'https://stackoverflow.com/questions/70606625/pytesseract-blacklisting-chars-in-a-specific-position', 'votes': 0, 'date': '2022-01-06 11:45:26Z'}, {'title': 'Change Metadata values in python, Detectron2', 'link': 'https://stackoverflow.com/questions/70606620/change-metadata-values-in-python-detectron2', 'votes': 0, 'date': '2022-01-06 11:44:59Z'}, {'title': 'Pandas converting sub-columns into rows', 'link': 'https://stackoverflow.com/questions/70606613/pandas-converting-sub-columns-into-rows', 'votes': 0, 'date': '2022-01-06 11:44:27Z'}, {'title': 'Python, prober way to handle regex match?', 'link': 'https://stackoverflow.com/questions/70606598/python-prober-way-to-handle-regex-match', 'votes': -1, 'date': '2022-01-06 11:43:22Z'}, {'title': 'os.listdir not accessing numerically labelled files in ascending order [duplicate]', 'link': 'https://stackoverflow.com/questions/70606597/os-listdir-not-accessing-numerically-labelled-files-in-ascending-order', 'votes': 0, 'date': '2022-01-06 11:43:11Z'}, {'title': 'Getting Python error when trying to change locale in macos', 'link': 'https://stackoverflow.com/questions/70606592/getting-python-error-when-trying-to-change-locale-in-macos', 'votes': 0, 'date': '2022-01-06 11:42:26Z'}, {'title': 'Conditional sum of dataframe columns in Python', 'link': 'https://stackoverflow.com/questions/70606552/conditional-sum-of-dataframe-columns-in-python', 'votes': 0, 'date': '2022-01-06 11:39:44Z'}, {'title': 'TIDAL API documention - how to get track IDs', 'link': 'https://stackoverflow.com/questions/70606529/tidal-api-documention-how-to-get-track-ids', 'votes': 0, 'date': '2022-01-06 11:37:30Z'}, {'title': \"Scrapy won't follow next page it gives an error\", 'link': 'https://stackoverflow.com/questions/70606526/scrapy-wont-follow-next-page-it-gives-an-error', 'votes': 0, 'date': '2022-01-06 11:37:03Z'}, {'title': 'Using seaborn and getting the FileNotFound error', 'link': 'https://stackoverflow.com/questions/70606525/using-seaborn-and-getting-the-filenotfound-error', 'votes': -1, 'date': '2022-01-06 11:36:58Z'}, {'title': 'Flask does not recognize controller when using `url_for()` in HTML form', 'link': 'https://stackoverflow.com/questions/70606500/flask-does-not-recognize-controller-when-using-url-for-in-html-form', 'votes': -1, 'date': '2022-01-06 11:34:02Z'}, {'title': 'Run macros from Python when the macro can only be run from a specific folder', 'link': 'https://stackoverflow.com/questions/70606476/run-macros-from-python-when-the-macro-can-only-be-run-from-a-specific-folder', 'votes': 2, 'date': '2022-01-06 11:31:39Z'}, {'title': 'How to access base class method *args from child class object?', 'link': 'https://stackoverflow.com/questions/70606444/how-to-access-base-class-method-args-from-child-class-object', 'votes': -2, 'date': '2022-01-06 11:28:25Z'}, {'title': \"I've got a project to make a compiler from Python to LLVM, is it possible ? Any tips? [closed]\", 'link': 'https://stackoverflow.com/questions/70606436/ive-got-a-project-to-make-a-compiler-from-python-to-llvm-is-it-possible-any', 'votes': -1, 'date': '2022-01-06 11:28:00Z'}, {'title': \"Python's regex Get folder name between name=' and /'\", 'link': 'https://stackoverflow.com/questions/70606426/pythons-regex-get-folder-name-between-name-and', 'votes': -2, 'date': '2022-01-06 11:27:15Z'}, {'title': 'How To Read and Print Data from CSV file into HTML File as Text', 'link': 'https://stackoverflow.com/questions/70606415/how-to-read-and-print-data-from-csv-file-into-html-file-as-text', 'votes': -2, 'date': '2022-01-06 11:26:26Z'}, {'title': 'Does torch.nn.MultiheadAttention contain normalisation layer and feed forward layer?', 'link': 'https://stackoverflow.com/questions/70606412/does-torch-nn-multiheadattention-contain-normalisation-layer-and-feed-forward-la', 'votes': 0, 'date': '2022-01-06 11:26:08Z'}, {'title': 'How do I group blocks of data in Python [duplicate]', 'link': 'https://stackoverflow.com/questions/70606410/how-do-i-group-blocks-of-data-in-python', 'votes': 0, 'date': '2022-01-06 11:25:58Z'}, {'title': 'How to import Spacy to run with GCP Dataflow?', 'link': 'https://stackoverflow.com/questions/70606380/how-to-import-spacy-to-run-with-gcp-dataflow', 'votes': 0, 'date': '2022-01-06 11:23:46Z'}, {'title': \"While extracting a value from Oracle (using Python) it's precision is getting lost\", 'link': 'https://stackoverflow.com/questions/70606367/while-extracting-a-value-from-oracle-using-python-its-precision-is-getting-lo', 'votes': 0, 'date': '2022-01-06 11:22:42Z'}, {'title': 'How to change the keys of a dictionary to row number using openpyxl in python', 'link': 'https://stackoverflow.com/questions/70606339/how-to-change-the-keys-of-a-dictionary-to-row-number-using-openpyxl-in-python', 'votes': 0, 'date': '2022-01-06 11:20:07Z'}, {'title': 'multiprocessing.pool cannot be accelerated in tf.data', 'link': 'https://stackoverflow.com/questions/70606320/multiprocessing-pool-cannot-be-accelerated-in-tf-data', 'votes': 0, 'date': '2022-01-06 11:18:27Z'}, {'title': 'Can i display my datas from my datadase in a Combobox?', 'link': 'https://stackoverflow.com/questions/70606255/can-i-display-my-datas-from-my-datadase-in-a-combobox', 'votes': 0, 'date': '2022-01-06 11:13:25Z'}, {'title': 'Python panda datastructure', 'link': 'https://stackoverflow.com/questions/70606248/python-panda-datastructure', 'votes': 0, 'date': '2022-01-06 11:12:38Z'}, {'title': 'Python: Scrapy sequential Spider not loading data correctly on start', 'link': 'https://stackoverflow.com/questions/70606245/python-scrapy-sequential-spider-not-loading-data-correctly-on-start', 'votes': 0, 'date': '2022-01-06 11:12:34Z'}, {'title': 'Scraping all hrefs in concrete div types with Beautiful Soup', 'link': 'https://stackoverflow.com/questions/70606241/scraping-all-hrefs-in-concrete-div-types-with-beautiful-soup', 'votes': 1, 'date': '2022-01-06 11:12:17Z'}]\n"
     ]
    }
   ],
   "source": [
    "print(question_list_cmplt2)\n",
    "\n",
    "# desired single list all pages question in single list"
   ]
  },
  {
   "cell_type": "code",
   "execution_count": 62,
   "id": "2a685598",
   "metadata": {},
   "outputs": [
    {
     "data": {
      "text/html": [
       "<div>\n",
       "<style scoped>\n",
       "    .dataframe tbody tr th:only-of-type {\n",
       "        vertical-align: middle;\n",
       "    }\n",
       "\n",
       "    .dataframe tbody tr th {\n",
       "        vertical-align: top;\n",
       "    }\n",
       "\n",
       "    .dataframe thead th {\n",
       "        text-align: right;\n",
       "    }\n",
       "</style>\n",
       "<table border=\"1\" class=\"dataframe\">\n",
       "  <thead>\n",
       "    <tr style=\"text-align: right;\">\n",
       "      <th></th>\n",
       "      <th>title</th>\n",
       "      <th>link</th>\n",
       "      <th>votes</th>\n",
       "      <th>date</th>\n",
       "    </tr>\n",
       "  </thead>\n",
       "  <tbody>\n",
       "    <tr>\n",
       "      <th>0</th>\n",
       "      <td>Why does mypy fail with \"incompatible type\" in...</td>\n",
       "      <td>https://stackoverflow.com/questions/70608253/w...</td>\n",
       "      <td>0</td>\n",
       "      <td>2022-01-06 13:59:04Z</td>\n",
       "    </tr>\n",
       "    <tr>\n",
       "      <th>1</th>\n",
       "      <td>How to write code to multiply two numbers in G...</td>\n",
       "      <td>https://stackoverflow.com/questions/70608248/h...</td>\n",
       "      <td>-1</td>\n",
       "      <td>2022-01-06 13:58:44Z</td>\n",
       "    </tr>\n",
       "    <tr>\n",
       "      <th>2</th>\n",
       "      <td>HuggingFace Transformers not getting installed...</td>\n",
       "      <td>https://stackoverflow.com/questions/70608245/h...</td>\n",
       "      <td>0</td>\n",
       "      <td>2022-01-06 13:58:37Z</td>\n",
       "    </tr>\n",
       "    <tr>\n",
       "      <th>3</th>\n",
       "      <td>What is the best Python Library for touch scre...</td>\n",
       "      <td>https://stackoverflow.com/questions/70608233/w...</td>\n",
       "      <td>0</td>\n",
       "      <td>2022-01-06 13:57:31Z</td>\n",
       "    </tr>\n",
       "    <tr>\n",
       "      <th>4</th>\n",
       "      <td>Tkinter Error: AttributeError: 'function' obje...</td>\n",
       "      <td>https://stackoverflow.com/questions/70608230/t...</td>\n",
       "      <td>0</td>\n",
       "      <td>2022-01-06 13:57:24Z</td>\n",
       "    </tr>\n",
       "  </tbody>\n",
       "</table>\n",
       "</div>"
      ],
      "text/plain": [
       "                                               title  \\\n",
       "0  Why does mypy fail with \"incompatible type\" in...   \n",
       "1  How to write code to multiply two numbers in G...   \n",
       "2  HuggingFace Transformers not getting installed...   \n",
       "3  What is the best Python Library for touch scre...   \n",
       "4  Tkinter Error: AttributeError: 'function' obje...   \n",
       "\n",
       "                                                link  votes  \\\n",
       "0  https://stackoverflow.com/questions/70608253/w...      0   \n",
       "1  https://stackoverflow.com/questions/70608248/h...     -1   \n",
       "2  https://stackoverflow.com/questions/70608245/h...      0   \n",
       "3  https://stackoverflow.com/questions/70608233/w...      0   \n",
       "4  https://stackoverflow.com/questions/70608230/t...      0   \n",
       "\n",
       "                   date  \n",
       "0  2022-01-06 13:59:04Z  \n",
       "1  2022-01-06 13:58:44Z  \n",
       "2  2022-01-06 13:58:37Z  \n",
       "3  2022-01-06 13:57:31Z  \n",
       "4  2022-01-06 13:57:24Z  "
      ]
     },
     "execution_count": 62,
     "metadata": {},
     "output_type": "execute_result"
    }
   ],
   "source": [
    "df = pd.DataFrame(question_list_cmplt2)\n",
    "\n",
    "df.head()"
   ]
  },
  {
   "cell_type": "code",
   "execution_count": null,
   "id": "b66b205f",
   "metadata": {},
   "outputs": [],
   "source": []
  },
  {
   "cell_type": "code",
   "execution_count": 43,
   "id": "ee6071da",
   "metadata": {},
   "outputs": [
    {
     "name": "stdout",
     "output_type": "stream",
     "text": [
      "15\n"
     ]
    }
   ],
   "source": [
    "getQuestions2('python',2)\n",
    "print(len(question_list_cmplt))"
   ]
  },
  {
   "cell_type": "code",
   "execution_count": 44,
   "id": "f3873403",
   "metadata": {
    "scrolled": true
   },
   "outputs": [
    {
     "name": "stdout",
     "output_type": "stream",
     "text": [
      "[{'title': 'Pandas is not showing data in descending order', 'link': 'https://stackoverflow.com/questions/70608046/pandas-is-not-showing-data-in-descending-order', 'votes': -1, 'date': '2022-01-06 13:44:08Z'}, {'title': 'Column-wise subtraction calculations in python 3', 'link': 'https://stackoverflow.com/questions/70608036/column-wise-subtraction-calculations-in-python-3', 'votes': -1, 'date': '2022-01-06 13:43:20Z'}, {'title': 'How to predict a drawing with tensorflow', 'link': 'https://stackoverflow.com/questions/70608035/how-to-predict-a-drawing-with-tensorflow', 'votes': 0, 'date': '2022-01-06 13:43:17Z'}, {'title': 'How can I refactor this python script better?', 'link': 'https://stackoverflow.com/questions/70608032/how-can-i-refactor-this-python-script-better', 'votes': 0, 'date': '2022-01-06 13:43:07Z'}, {'title': 'Working with concurrent.futures.ThreadPoolExecutor', 'link': 'https://stackoverflow.com/questions/70608017/working-with-concurrent-futures-threadpoolexecutor', 'votes': 0, 'date': '2022-01-06 13:42:22Z'}, {'title': 'Is there a way to extract the selected value in a nested Dictionary using a for loop?', 'link': 'https://stackoverflow.com/questions/70608016/is-there-a-way-to-extract-the-selected-value-in-a-nested-dictionary-using-a-for', 'votes': 0, 'date': '2022-01-06 13:42:17Z'}, {'title': \"Requests. __init__() got an unexpected keyword argument 'strict'\", 'link': 'https://stackoverflow.com/questions/70607987/requests-init-got-an-unexpected-keyword-argument-strict', 'votes': 0, 'date': '2022-01-06 13:40:10Z'}, {'title': 'WEBSOCKET Financial data, cant get the data formatted in the right way: Dictionary values python', 'link': 'https://stackoverflow.com/questions/70607979/websocket-financial-data-cant-get-the-data-formatted-in-the-right-way-dictiona', 'votes': 0, 'date': '2022-01-06 13:39:46Z'}, {'title': 'linear regression to estimate partial deviative', 'link': 'https://stackoverflow.com/questions/70607879/linear-regression-to-estimate-partial-deviative', 'votes': -2, 'date': '2022-01-06 13:31:29Z'}, {'title': 'maximum recursion depth exceeded while calling a Python object in Django 3.0', 'link': 'https://stackoverflow.com/questions/70607877/maximum-recursion-depth-exceeded-while-calling-a-python-object-in-django-3-0', 'votes': 0, 'date': '2022-01-06 13:31:21Z'}, {'title': 'How Do I get my Discord Bot to Send a private message to another user using their user ID,I tried the following but it did not work', 'link': 'https://stackoverflow.com/questions/70607837/how-do-i-get-my-discord-bot-to-send-a-private-message-to-another-user-using-thei', 'votes': 0, 'date': '2022-01-06 13:28:49Z'}, {'title': 'Ubuntu 20.04: dataframe_image with Chrome: InitializeSandbox() called with multiple threads in process gpu-process', 'link': 'https://stackoverflow.com/questions/70607830/ubuntu-20-04-dataframe-image-with-chrome-initializesandbox-called-with-multi', 'votes': 0, 'date': '2022-01-06 13:27:58Z'}, {'title': 'Approximate function only with previous points', 'link': 'https://stackoverflow.com/questions/70607818/approximate-function-only-with-previous-points', 'votes': 0, 'date': '2022-01-06 13:26:51Z'}, {'title': 'Is it feasible to enable jupyterlab UI through DataprocClusterCreateOperator', 'link': 'https://stackoverflow.com/questions/70607804/is-it-feasible-to-enable-jupyterlab-ui-through-dataprocclustercreateoperator', 'votes': 0, 'date': '2022-01-06 13:26:06Z'}, {'title': 'How can I plot the contour lines of a function with vector variables in Python?', 'link': 'https://stackoverflow.com/questions/70607798/how-can-i-plot-the-contour-lines-of-a-function-with-vector-variables-in-python', 'votes': 0, 'date': '2022-01-06 13:25:37Z'}, {'title': 'Can someone solve this question for me? I am new to oop [closed]', 'link': 'https://stackoverflow.com/questions/70607779/can-someone-solve-this-question-for-me-i-am-new-to-oop', 'votes': -9, 'date': '2022-01-06 13:24:05Z'}, {'title': 'How to remove days from datetime.date object', 'link': 'https://stackoverflow.com/questions/70607702/how-to-remove-days-from-datetime-date-object', 'votes': -1, 'date': '2022-01-06 13:16:29Z'}, {'title': 'GPU render slower than CPU render in Blender', 'link': 'https://stackoverflow.com/questions/70607701/gpu-render-slower-than-cpu-render-in-blender', 'votes': 0, 'date': '2022-01-06 13:16:27Z'}, {'title': 'How to create an asynchronous REST API in DJango? [closed]', 'link': 'https://stackoverflow.com/questions/70607673/how-to-create-an-asynchronous-rest-api-in-django', 'votes': -3, 'date': '2022-01-06 13:14:25Z'}, {'title': 'tkinter program to insert the button to the Scrollbar area)(inside)', 'link': 'https://stackoverflow.com/questions/70607664/tkinter-program-to-insert-the-button-to-the-scrollbar-areainside', 'votes': 0, 'date': '2022-01-06 13:13:39Z'}, {'title': 'Why do some Python smtplib messages deliver to Gmail spam folder?', 'link': 'https://stackoverflow.com/questions/70607640/why-do-some-python-smtplib-messages-deliver-to-gmail-spam-folder', 'votes': 0, 'date': '2022-01-06 13:12:17Z'}, {'title': 'Passing a value form python file to the iOS app', 'link': 'https://stackoverflow.com/questions/70607609/passing-a-value-form-python-file-to-the-ios-app', 'votes': 0, 'date': '2022-01-06 13:09:55Z'}, {'title': 'Iterating over lists in pandas dataframe to remove everything after certain value (if the value exists) in list', 'link': 'https://stackoverflow.com/questions/70607595/iterating-over-lists-in-pandas-dataframe-to-remove-everything-after-certain-valu', 'votes': 0, 'date': '2022-01-06 13:08:51Z'}, {'title': 'Edit multiple xml files in different folders', 'link': 'https://stackoverflow.com/questions/70607576/edit-multiple-xml-files-in-different-folders', 'votes': 0, 'date': '2022-01-06 13:07:22Z'}, {'title': 'Groupby lists in Pandas', 'link': 'https://stackoverflow.com/questions/70607562/groupby-lists-in-pandas', 'votes': 1, 'date': '2022-01-06 13:06:04Z'}, {'title': 'Sum of values per column in Spark', 'link': 'https://stackoverflow.com/questions/70607560/sum-of-values-per-column-in-spark', 'votes': -1, 'date': '2022-01-06 13:05:54Z'}, {'title': 'AttributeError on a function', 'link': 'https://stackoverflow.com/questions/70607502/attributeerror-on-a-function', 'votes': -2, 'date': '2022-01-06 13:01:19Z'}, {'title': 'add language in python searching google', 'link': 'https://stackoverflow.com/questions/70607497/add-language-in-python-searching-google', 'votes': -1, 'date': '2022-01-06 13:01:08Z'}, {'title': 'Python Pie chart in Matplotlib or Altair from two categorical data', 'link': 'https://stackoverflow.com/questions/70607476/python-pie-chart-in-matplotlib-or-altair-from-two-categorical-data', 'votes': 0, 'date': '2022-01-06 12:59:10Z'}, {'title': 'Click.Argument does not throw Error for missing argument', 'link': 'https://stackoverflow.com/questions/70607472/click-argument-does-not-throw-error-for-missing-argument', 'votes': 0, 'date': '2022-01-06 12:59:08Z'}]\n"
     ]
    }
   ],
   "source": [
    "getQuestions2('python',3)\n",
    "print((question_list_cmplt))"
   ]
  },
  {
   "cell_type": "code",
   "execution_count": null,
   "id": "9f2abfa1",
   "metadata": {},
   "outputs": [],
   "source": []
  },
  {
   "cell_type": "code",
   "execution_count": 47,
   "id": "30894d34",
   "metadata": {
    "scrolled": true
   },
   "outputs": [
    {
     "name": "stdout",
     "output_type": "stream",
     "text": [
      "30\n"
     ]
    }
   ],
   "source": [
    "getQuestions2('stremlit',5)\n",
    "print(len(question_list_cmplt)) # due to Global variable"
   ]
  },
  {
   "cell_type": "code",
   "execution_count": null,
   "id": "6cf79d2b",
   "metadata": {},
   "outputs": [],
   "source": []
  },
  {
   "cell_type": "code",
   "execution_count": 55,
   "id": "3d610b0e",
   "metadata": {},
   "outputs": [],
   "source": [
    "headers = {'User-Agent':'Mozilla/5.0 (Windows NT 10.0; Win64; x64) AppleWebKit/537.36 (KHTML, like Gecko) Chrome/96.0.4664.110 Safari/537.36'}\n",
    "\n",
    "def getQuestions3(lang,page_no):\n",
    "    \n",
    "    url = f'https://stackoverflow.com/questions/tagged/{lang}?tab=newest&page={page_no}&pagesize=15'\n",
    "\n",
    "    r = requests.get(url,headers = headers)\n",
    "\n",
    "    soup = BeautifulSoup(r.text,'html.parser')\n",
    "\n",
    "    questions = soup.find_all('div', {'class': 'question-summary'})\n",
    "    \n",
    "    question_list_cmplt3 = []\n",
    "    \n",
    "    for item in questions:\n",
    "        question = {\n",
    "        'title' : item.find('a',{'class': 'question-hyperlink'}).text,\n",
    "        'link' :  'https://stackoverflow.com' + item.find('a',{'class': 'question-hyperlink'})['href'],\n",
    "        'votes' : int(item.find('span',{'class':'vote-count-post'}).text),\n",
    "        'date' : item.find('span',{'class':'relativetime'})['title'] }\n",
    "        question_list_cmplt3.append(question)\n",
    "    \n",
    "    print(question_list_cmplt3)\n",
    "    return "
   ]
  },
  {
   "cell_type": "code",
   "execution_count": 58,
   "id": "4d02fc82",
   "metadata": {
    "scrolled": true
   },
   "outputs": [
    {
     "name": "stdout",
     "output_type": "stream",
     "text": [
      "[{'title': 'Using Pydub to convert mp3 to flac but getting a filtering error', 'link': 'https://stackoverflow.com/questions/70608620/using-pydub-to-convert-mp3-to-flac-but-getting-a-filtering-error', 'votes': 0, 'date': '2022-01-06 14:25:08Z'}, {'title': 'How to get message from logging function?', 'link': 'https://stackoverflow.com/questions/70608619/how-to-get-message-from-logging-function', 'votes': 0, 'date': '2022-01-06 14:25:08Z'}, {'title': 'How to compare indexes of 2 tuples with Python. The other one is a value in a dictionary', 'link': 'https://stackoverflow.com/questions/70608585/how-to-compare-indexes-of-2-tuples-with-python-the-other-one-is-a-value-in-a-di', 'votes': -1, 'date': '2022-01-06 14:22:15Z'}, {'title': 'Q-Learning Function Approximation in PyTorch not learning', 'link': 'https://stackoverflow.com/questions/70608584/q-learning-function-approximation-in-pytorch-not-learning', 'votes': 0, 'date': '2022-01-06 14:22:14Z'}, {'title': 'How to add a non-bot asynchornous function to the loop in aiogram', 'link': 'https://stackoverflow.com/questions/70608568/how-to-add-a-non-bot-asynchornous-function-to-the-loop-in-aiogram', 'votes': 0, 'date': '2022-01-06 14:21:23Z'}, {'title': 'Client connect issue with adding error handling', 'link': 'https://stackoverflow.com/questions/70608553/client-connect-issue-with-adding-error-handling', 'votes': 0, 'date': '2022-01-06 14:20:24Z'}, {'title': 'conda --list [Illegal instruction] on Raspberry pi 4', 'link': 'https://stackoverflow.com/questions/70608540/conda-list-illegal-instruction-on-raspberry-pi-4', 'votes': 0, 'date': '2022-01-06 14:19:13Z'}, {'title': \"I want to find the XPATH of an element by knowing it's value\", 'link': 'https://stackoverflow.com/questions/70608536/i-want-to-find-the-xpath-of-an-element-by-knowing-its-value', 'votes': 1, 'date': '2022-01-06 14:19:00Z'}, {'title': 'Flask Post Requests Errors (Duplicate)', 'link': 'https://stackoverflow.com/questions/70608515/flask-post-requests-errors-duplicate', 'votes': 0, 'date': '2022-01-06 14:17:55Z'}, {'title': 'Reading a html table to python with pandas', 'link': 'https://stackoverflow.com/questions/70608514/reading-a-html-table-to-python-with-pandas', 'votes': 0, 'date': '2022-01-06 14:17:54Z'}, {'title': 'Correct polynomial regression formula using sklearn (Python)', 'link': 'https://stackoverflow.com/questions/70608508/correct-polynomial-regression-formula-using-sklearn-python', 'votes': 0, 'date': '2022-01-06 14:17:33Z'}, {'title': \"Pandas - TypeError: unsupported operand type(s) for +=: 'datetime.time' and 'datetime.timedelta'\", 'link': 'https://stackoverflow.com/questions/70608496/pandas-typeerror-unsupported-operand-types-for-datetime-time-and-dat', 'votes': 0, 'date': '2022-01-06 14:16:48Z'}, {'title': 'QTableView screen overflow when large amounts of data are added instead of scrollable TableView', 'link': 'https://stackoverflow.com/questions/70608490/qtableview-screen-overflow-when-large-amounts-of-data-are-added-instead-of-scrol', 'votes': 0, 'date': '2022-01-06 14:16:34Z'}, {'title': 'Python timezone determination and manipulation with tzwhere produce objects rather than datetime64s in some situations', 'link': 'https://stackoverflow.com/questions/70608478/python-timezone-determination-and-manipulation-with-tzwhere-produce-objects-rath', 'votes': 0, 'date': '2022-01-06 14:15:47Z'}, {'title': \"How to slove 'POST data should be bytes, an iterable of bytes, or a file object. It cannot be of type str.'?\", 'link': 'https://stackoverflow.com/questions/70608475/how-to-slove-post-data-should-be-bytes-an-iterable-of-bytes-or-a-file-object', 'votes': 0, 'date': '2022-01-06 14:15:41Z'}]\n"
     ]
    }
   ],
   "source": [
    "getQuestions3('python',1)"
   ]
  },
  {
   "cell_type": "code",
   "execution_count": 59,
   "id": "e9a39dd9",
   "metadata": {
    "scrolled": true
   },
   "outputs": [
    {
     "name": "stdout",
     "output_type": "stream",
     "text": [
      "[{'title': 'QTableView screen overflow when large amounts of data are added instead of scrollable TableView', 'link': 'https://stackoverflow.com/questions/70608490/qtableview-screen-overflow-when-large-amounts-of-data-are-added-instead-of-scrol', 'votes': 0, 'date': '2022-01-06 14:16:34Z'}, {'title': 'Python timezone determination and manipulation with tzwhere produce objects rather than datetime64s in some situations', 'link': 'https://stackoverflow.com/questions/70608478/python-timezone-determination-and-manipulation-with-tzwhere-produce-objects-rath', 'votes': 0, 'date': '2022-01-06 14:15:47Z'}, {'title': \"How to slove 'POST data should be bytes, an iterable of bytes, or a file object. It cannot be of type str.'?\", 'link': 'https://stackoverflow.com/questions/70608475/how-to-slove-post-data-should-be-bytes-an-iterable-of-bytes-or-a-file-object', 'votes': 0, 'date': '2022-01-06 14:15:41Z'}, {'title': 'Import a python module from a different folder with another module import in it', 'link': 'https://stackoverflow.com/questions/70608472/import-a-python-module-from-a-different-folder-with-another-module-import-in-it', 'votes': 1, 'date': '2022-01-06 14:15:23Z'}, {'title': 'Python dataFrame, add multiple column headers', 'link': 'https://stackoverflow.com/questions/70608467/python-dataframe-add-multiple-column-headers', 'votes': 0, 'date': '2022-01-06 14:15:04Z'}, {'title': 'Data will not save when using ComboBoxes inside QTableWidget', 'link': 'https://stackoverflow.com/questions/70608456/data-will-not-save-when-using-comboboxes-inside-qtablewidget', 'votes': 0, 'date': '2022-01-06 14:14:20Z'}, {'title': 'Creating a module subclass in a Python extension', 'link': 'https://stackoverflow.com/questions/70608438/creating-a-module-subclass-in-a-python-extension', 'votes': 2, 'date': '2022-01-06 14:12:51Z'}, {'title': 'Python Rolling sum for 32 bit vs 64 bit', 'link': 'https://stackoverflow.com/questions/70608396/python-rolling-sum-for-32-bit-vs-64-bit', 'votes': 2, 'date': '2022-01-06 14:10:03Z'}, {'title': 'SWIG typemap 2d array to Python list', 'link': 'https://stackoverflow.com/questions/70608387/swig-typemap-2d-array-to-python-list', 'votes': 0, 'date': '2022-01-06 14:09:18Z'}, {'title': '1D Heat Equation with different thermal coefficients in python', 'link': 'https://stackoverflow.com/questions/70608369/1d-heat-equation-with-different-thermal-coefficients-in-python', 'votes': 0, 'date': '2022-01-06 14:08:19Z'}, {'title': 'Looping to plot multiple map with geopandas and removing axis', 'link': 'https://stackoverflow.com/questions/70608355/looping-to-plot-multiple-map-with-geopandas-and-removing-axis', 'votes': 0, 'date': '2022-01-06 14:07:34Z'}, {'title': 'Intersecting a plane surface with a paraboloid', 'link': 'https://stackoverflow.com/questions/70608348/intersecting-a-plane-surface-with-a-paraboloid', 'votes': 0, 'date': '2022-01-06 14:06:58Z'}, {'title': \"win32com.client.gencache.EnsureDispatch('powerpoint.application', 1) taking forever to run\", 'link': 'https://stackoverflow.com/questions/70608278/win32com-client-gencache-ensuredispatchpowerpoint-application-1-taking-fore', 'votes': 0, 'date': '2022-01-06 14:01:05Z'}, {'title': 'How can i align a CellWidget of a TableWidget to the center of the Item in pyqt5', 'link': 'https://stackoverflow.com/questions/70608264/how-can-i-align-a-cellwidget-of-a-tablewidget-to-the-center-of-the-item-in-pyqt5', 'votes': 0, 'date': '2022-01-06 14:00:14Z'}, {'title': 'Why does mypy fail with \"incompatible type\" in Enum classmethod?', 'link': 'https://stackoverflow.com/questions/70608253/why-does-mypy-fail-with-incompatible-type-in-enum-classmethod', 'votes': 0, 'date': '2022-01-06 13:59:04Z'}]\n"
     ]
    }
   ],
   "source": [
    "getQuestions3('python',2)"
   ]
  },
  {
   "cell_type": "code",
   "execution_count": 60,
   "id": "de14016e",
   "metadata": {},
   "outputs": [
    {
     "name": "stdout",
     "output_type": "stream",
     "text": [
      "[{'title': 'Pandas extracting values from dataframe based on condition', 'link': 'https://stackoverflow.com/questions/70608643/pandas-extracting-values-from-dataframe-based-on-condition', 'votes': 0, 'date': '2022-01-06 14:27:07Z'}, {'title': \"How to write data to csv which doesn't has fix count of rows in multiple lists with help of pandas library in python?\", 'link': 'https://stackoverflow.com/questions/70608640/how-to-write-data-to-csv-which-doesnt-has-fix-count-of-rows-in-multiple-lists-w', 'votes': 0, 'date': '2022-01-06 14:26:44Z'}, {'title': 'How to delete a QGraphicsItem in a PlotItem by mouse click on it', 'link': 'https://stackoverflow.com/questions/70608642/how-to-delete-a-qgraphicsitem-in-a-plotitem-by-mouse-click-on-it', 'votes': 0, 'date': '2022-01-06 14:26:43Z'}, {'title': 'Using Pydub to convert mp3 to flac but getting a filtering error', 'link': 'https://stackoverflow.com/questions/70608620/using-pydub-to-convert-mp3-to-flac-but-getting-a-filtering-error', 'votes': 0, 'date': '2022-01-06 14:25:08Z'}, {'title': 'How to get message from logging function?', 'link': 'https://stackoverflow.com/questions/70608619/how-to-get-message-from-logging-function', 'votes': 0, 'date': '2022-01-06 14:25:08Z'}, {'title': 'How to compare indexes of 2 tuples with Python. The other one is a value in a dictionary', 'link': 'https://stackoverflow.com/questions/70608585/how-to-compare-indexes-of-2-tuples-with-python-the-other-one-is-a-value-in-a-di', 'votes': -1, 'date': '2022-01-06 14:22:15Z'}, {'title': 'Q-Learning Function Approximation in PyTorch not learning', 'link': 'https://stackoverflow.com/questions/70608584/q-learning-function-approximation-in-pytorch-not-learning', 'votes': 0, 'date': '2022-01-06 14:22:14Z'}, {'title': 'How to add a non-bot asynchornous function to the loop in aiogram', 'link': 'https://stackoverflow.com/questions/70608568/how-to-add-a-non-bot-asynchornous-function-to-the-loop-in-aiogram', 'votes': 0, 'date': '2022-01-06 14:21:23Z'}, {'title': 'Client connect issue with adding error handling', 'link': 'https://stackoverflow.com/questions/70608553/client-connect-issue-with-adding-error-handling', 'votes': 0, 'date': '2022-01-06 14:20:24Z'}, {'title': 'conda --list [Illegal instruction] on Raspberry pi 4', 'link': 'https://stackoverflow.com/questions/70608540/conda-list-illegal-instruction-on-raspberry-pi-4', 'votes': 0, 'date': '2022-01-06 14:19:13Z'}, {'title': \"I want to find the XPATH of an element by knowing it's value\", 'link': 'https://stackoverflow.com/questions/70608536/i-want-to-find-the-xpath-of-an-element-by-knowing-its-value', 'votes': 1, 'date': '2022-01-06 14:19:00Z'}, {'title': 'Flask Post Requests Errors (Duplicate)', 'link': 'https://stackoverflow.com/questions/70608515/flask-post-requests-errors-duplicate', 'votes': 0, 'date': '2022-01-06 14:17:55Z'}, {'title': 'Reading a html table to python with pandas', 'link': 'https://stackoverflow.com/questions/70608514/reading-a-html-table-to-python-with-pandas', 'votes': 0, 'date': '2022-01-06 14:17:54Z'}, {'title': 'Correct polynomial regression formula using sklearn (Python)', 'link': 'https://stackoverflow.com/questions/70608508/correct-polynomial-regression-formula-using-sklearn-python', 'votes': 0, 'date': '2022-01-06 14:17:33Z'}, {'title': \"Pandas - TypeError: unsupported operand type(s) for +=: 'datetime.time' and 'datetime.timedelta'\", 'link': 'https://stackoverflow.com/questions/70608496/pandas-typeerror-unsupported-operand-types-for-datetime-time-and-dat', 'votes': 0, 'date': '2022-01-06 14:16:48Z'}]\n",
      "[{'title': 'QTableView screen overflow when large amounts of data are added instead of scrollable TableView', 'link': 'https://stackoverflow.com/questions/70608490/qtableview-screen-overflow-when-large-amounts-of-data-are-added-instead-of-scrol', 'votes': 0, 'date': '2022-01-06 14:16:34Z'}, {'title': 'Python timezone determination and manipulation with tzwhere produce objects rather than datetime64s in some situations', 'link': 'https://stackoverflow.com/questions/70608478/python-timezone-determination-and-manipulation-with-tzwhere-produce-objects-rath', 'votes': 0, 'date': '2022-01-06 14:15:47Z'}, {'title': \"How to slove 'POST data should be bytes, an iterable of bytes, or a file object. It cannot be of type str.'?\", 'link': 'https://stackoverflow.com/questions/70608475/how-to-slove-post-data-should-be-bytes-an-iterable-of-bytes-or-a-file-object', 'votes': 0, 'date': '2022-01-06 14:15:41Z'}, {'title': 'Import a python module from a different folder with another module import in it', 'link': 'https://stackoverflow.com/questions/70608472/import-a-python-module-from-a-different-folder-with-another-module-import-in-it', 'votes': 1, 'date': '2022-01-06 14:15:23Z'}, {'title': 'Python dataFrame, add multiple column headers', 'link': 'https://stackoverflow.com/questions/70608467/python-dataframe-add-multiple-column-headers', 'votes': 0, 'date': '2022-01-06 14:15:04Z'}, {'title': 'Data will not save when using ComboBoxes inside QTableWidget', 'link': 'https://stackoverflow.com/questions/70608456/data-will-not-save-when-using-comboboxes-inside-qtablewidget', 'votes': 0, 'date': '2022-01-06 14:14:20Z'}, {'title': 'Creating a module subclass in a Python extension', 'link': 'https://stackoverflow.com/questions/70608438/creating-a-module-subclass-in-a-python-extension', 'votes': 2, 'date': '2022-01-06 14:12:51Z'}, {'title': 'Python Rolling sum for 32 bit vs 64 bit', 'link': 'https://stackoverflow.com/questions/70608396/python-rolling-sum-for-32-bit-vs-64-bit', 'votes': 2, 'date': '2022-01-06 14:10:03Z'}, {'title': 'SWIG typemap 2d array to Python list', 'link': 'https://stackoverflow.com/questions/70608387/swig-typemap-2d-array-to-python-list', 'votes': 0, 'date': '2022-01-06 14:09:18Z'}, {'title': '1D Heat Equation with different thermal coefficients in python', 'link': 'https://stackoverflow.com/questions/70608369/1d-heat-equation-with-different-thermal-coefficients-in-python', 'votes': 0, 'date': '2022-01-06 14:08:19Z'}, {'title': 'Looping to plot multiple map with geopandas and removing axis', 'link': 'https://stackoverflow.com/questions/70608355/looping-to-plot-multiple-map-with-geopandas-and-removing-axis', 'votes': 0, 'date': '2022-01-06 14:07:34Z'}, {'title': 'Intersecting a plane surface with a paraboloid', 'link': 'https://stackoverflow.com/questions/70608348/intersecting-a-plane-surface-with-a-paraboloid', 'votes': 0, 'date': '2022-01-06 14:06:58Z'}, {'title': \"win32com.client.gencache.EnsureDispatch('powerpoint.application', 1) taking forever to run\", 'link': 'https://stackoverflow.com/questions/70608278/win32com-client-gencache-ensuredispatchpowerpoint-application-1-taking-fore', 'votes': 0, 'date': '2022-01-06 14:01:05Z'}, {'title': 'How can i align a CellWidget of a TableWidget to the center of the Item in pyqt5', 'link': 'https://stackoverflow.com/questions/70608264/how-can-i-align-a-cellwidget-of-a-tablewidget-to-the-center-of-the-item-in-pyqt5', 'votes': 0, 'date': '2022-01-06 14:00:14Z'}, {'title': 'Why does mypy fail with \"incompatible type\" in Enum classmethod?', 'link': 'https://stackoverflow.com/questions/70608253/why-does-mypy-fail-with-incompatible-type-in-enum-classmethod', 'votes': 0, 'date': '2022-01-06 13:59:04Z'}]\n",
      "[{'title': 'How to write code to multiply two numbers in GET, PUT and DELETE method in the same def using swagger [closed]', 'link': 'https://stackoverflow.com/questions/70608248/how-to-write-code-to-multiply-two-numbers-in-get-put-and-delete-method-in-the-s', 'votes': -1, 'date': '2022-01-06 13:58:44Z'}, {'title': 'HuggingFace Transformers not getting installed in VS Code', 'link': 'https://stackoverflow.com/questions/70608245/huggingface-transformers-not-getting-installed-in-vs-code', 'votes': 0, 'date': '2022-01-06 13:58:37Z'}, {'title': 'What is the best Python Library for touch screen App? [closed]', 'link': 'https://stackoverflow.com/questions/70608233/what-is-the-best-python-library-for-touch-screen-app', 'votes': 0, 'date': '2022-01-06 13:57:31Z'}, {'title': \"Tkinter Error: AttributeError: 'function' object has no attribute 'get'\", 'link': 'https://stackoverflow.com/questions/70608230/tkinter-error-attributeerror-function-object-has-no-attribute-get', 'votes': -1, 'date': '2022-01-06 13:57:24Z'}, {'title': 'Passing list by value in function by making temporary new list[Error] [closed]', 'link': 'https://stackoverflow.com/questions/70608225/passing-list-by-value-in-function-by-making-temporary-new-listerror', 'votes': 0, 'date': '2022-01-06 13:57:01Z'}, {'title': 'Heroku deployment of Fastapi (Python) running on uvicorn: Web process failed to bind to $PORT', 'link': 'https://stackoverflow.com/questions/70608215/heroku-deployment-of-fastapi-python-running-on-uvicorn-web-process-failed-to', 'votes': 0, 'date': '2022-01-06 13:56:14Z'}, {'title': 'No module named [mtcnn] - m1 Mac - python', 'link': 'https://stackoverflow.com/questions/70608201/no-module-named-mtcnn-m1-mac-python', 'votes': 0, 'date': '2022-01-06 13:55:26Z'}, {'title': 'Schema - Returning all errros', 'link': 'https://stackoverflow.com/questions/70608186/schema-returning-all-errros', 'votes': 0, 'date': '2022-01-06 13:54:36Z'}, {'title': 'Translation of python loop into R', 'link': 'https://stackoverflow.com/questions/70608170/translation-of-python-loop-into-r', 'votes': 0, 'date': '2022-01-06 13:53:00Z'}, {'title': 'How can I access a dictionary that is in a list [closed]', 'link': 'https://stackoverflow.com/questions/70608167/how-can-i-access-a-dictionary-that-is-in-a-list', 'votes': -2, 'date': '2022-01-06 13:52:43Z'}, {'title': 'Why does the vehicle not perform the lane-changing using changeSublane method?', 'link': 'https://stackoverflow.com/questions/70608158/why-does-the-vehicle-not-perform-the-lane-changing-using-changesublane-method', 'votes': -1, 'date': '2022-01-06 13:52:13Z'}, {'title': 'Send batch emails with different content Sendgrid', 'link': 'https://stackoverflow.com/questions/70608145/send-batch-emails-with-different-content-sendgrid', 'votes': 0, 'date': '2022-01-06 13:51:40Z'}, {'title': 'Create groups of N items from a list?', 'link': 'https://stackoverflow.com/questions/70608129/create-groups-of-n-items-from-a-list', 'votes': 0, 'date': '2022-01-06 13:50:36Z'}, {'title': 'object tracking select a interested object among multiple object', 'link': 'https://stackoverflow.com/questions/70608103/object-tracking-select-a-interested-object-among-multiple-object', 'votes': 0, 'date': '2022-01-06 13:48:17Z'}, {'title': 'conda install different packages from different channels in one line', 'link': 'https://stackoverflow.com/questions/70608096/conda-install-different-packages-from-different-channels-in-one-line', 'votes': 0, 'date': '2022-01-06 13:47:49Z'}]\n"
     ]
    },
    {
     "name": "stdout",
     "output_type": "stream",
     "text": [
      "[{'title': 'how many frames does OPEN CV produce?', 'link': 'https://stackoverflow.com/questions/70608082/how-many-frames-does-open-cv-produce', 'votes': 0, 'date': '2022-01-06 13:47:02Z'}, {'title': 'Getting the error message \"raise CalledProcessError(retcode, cmd)\" when using the cat command from a python script', 'link': 'https://stackoverflow.com/questions/70608072/getting-the-error-message-raise-calledprocesserrorretcode-cmd-when-using-th', 'votes': 0, 'date': '2022-01-06 13:46:22Z'}, {'title': 'Find comments related to specific topic (nlp)', 'link': 'https://stackoverflow.com/questions/70608071/find-comments-related-to-specific-topic-nlp', 'votes': 0, 'date': '2022-01-06 13:46:17Z'}, {'title': 'get top view of the image - cv2 Python', 'link': 'https://stackoverflow.com/questions/70608065/get-top-view-of-the-image-cv2-python', 'votes': -1, 'date': '2022-01-06 13:45:45Z'}, {'title': 'Merge CSV Files with different headers', 'link': 'https://stackoverflow.com/questions/70608063/merge-csv-files-with-different-headers', 'votes': 0, 'date': '2022-01-06 13:45:33Z'}, {'title': 'How to write unit test case for try except Exception as e block python', 'link': 'https://stackoverflow.com/questions/70608053/how-to-write-unit-test-case-for-try-except-exception-as-e-block-python', 'votes': 0, 'date': '2022-01-06 13:44:35Z'}, {'title': 'Pandas is not showing data in descending order', 'link': 'https://stackoverflow.com/questions/70608046/pandas-is-not-showing-data-in-descending-order', 'votes': -1, 'date': '2022-01-06 13:44:08Z'}, {'title': 'Column-wise subtraction calculations in python 3', 'link': 'https://stackoverflow.com/questions/70608036/column-wise-subtraction-calculations-in-python-3', 'votes': -1, 'date': '2022-01-06 13:43:20Z'}, {'title': 'How to predict a drawing with tensorflow', 'link': 'https://stackoverflow.com/questions/70608035/how-to-predict-a-drawing-with-tensorflow', 'votes': -1, 'date': '2022-01-06 13:43:17Z'}, {'title': 'How can I refactor this python script better?', 'link': 'https://stackoverflow.com/questions/70608032/how-can-i-refactor-this-python-script-better', 'votes': 0, 'date': '2022-01-06 13:43:07Z'}, {'title': 'Working with concurrent.futures.ThreadPoolExecutor', 'link': 'https://stackoverflow.com/questions/70608017/working-with-concurrent-futures-threadpoolexecutor', 'votes': 0, 'date': '2022-01-06 13:42:22Z'}, {'title': 'Is there a way to extract the selected value in a nested Dictionary using a for loop?', 'link': 'https://stackoverflow.com/questions/70608016/is-there-a-way-to-extract-the-selected-value-in-a-nested-dictionary-using-a-for', 'votes': 0, 'date': '2022-01-06 13:42:17Z'}, {'title': \"Requests. __init__() got an unexpected keyword argument 'strict'\", 'link': 'https://stackoverflow.com/questions/70607987/requests-init-got-an-unexpected-keyword-argument-strict', 'votes': 0, 'date': '2022-01-06 13:40:10Z'}, {'title': 'WEBSOCKET Financial data, cant get the data formatted in the right way: Dictionary values python', 'link': 'https://stackoverflow.com/questions/70607979/websocket-financial-data-cant-get-the-data-formatted-in-the-right-way-dictiona', 'votes': 0, 'date': '2022-01-06 13:39:46Z'}, {'title': 'linear regression to estimate partial deviative', 'link': 'https://stackoverflow.com/questions/70607879/linear-regression-to-estimate-partial-deviative', 'votes': -1, 'date': '2022-01-06 13:31:29Z'}]\n",
      "[{'title': 'maximum recursion depth exceeded while calling a Python object in Django 3.0', 'link': 'https://stackoverflow.com/questions/70607877/maximum-recursion-depth-exceeded-while-calling-a-python-object-in-django-3-0', 'votes': 0, 'date': '2022-01-06 13:31:21Z'}, {'title': 'How Do I get my Discord Bot to Send a private message to another user using their user ID,I tried the following but it did not work', 'link': 'https://stackoverflow.com/questions/70607837/how-do-i-get-my-discord-bot-to-send-a-private-message-to-another-user-using-thei', 'votes': 0, 'date': '2022-01-06 13:28:49Z'}, {'title': 'Ubuntu 20.04: dataframe_image with Chrome: InitializeSandbox() called with multiple threads in process gpu-process', 'link': 'https://stackoverflow.com/questions/70607830/ubuntu-20-04-dataframe-image-with-chrome-initializesandbox-called-with-multi', 'votes': 0, 'date': '2022-01-06 13:27:58Z'}, {'title': 'Approximate function only with previous points', 'link': 'https://stackoverflow.com/questions/70607818/approximate-function-only-with-previous-points', 'votes': 0, 'date': '2022-01-06 13:26:51Z'}, {'title': 'Is it feasible to enable jupyterlab UI through DataprocClusterCreateOperator', 'link': 'https://stackoverflow.com/questions/70607804/is-it-feasible-to-enable-jupyterlab-ui-through-dataprocclustercreateoperator', 'votes': 0, 'date': '2022-01-06 13:26:06Z'}, {'title': 'How can I plot the contour lines of a function with vector variables in Python?', 'link': 'https://stackoverflow.com/questions/70607798/how-can-i-plot-the-contour-lines-of-a-function-with-vector-variables-in-python', 'votes': 0, 'date': '2022-01-06 13:25:37Z'}, {'title': 'Keras binary_crossentropy model always predicts 0', 'link': 'https://stackoverflow.com/questions/70607790/keras-binary-crossentropy-model-always-predicts-0', 'votes': 0, 'date': '2022-01-06 13:25:05Z'}, {'title': 'Can someone solve this question for me? I am new to oop [closed]', 'link': 'https://stackoverflow.com/questions/70607779/can-someone-solve-this-question-for-me-i-am-new-to-oop', 'votes': -9, 'date': '2022-01-06 13:24:05Z'}, {'title': 'How to remove days from datetime.date object', 'link': 'https://stackoverflow.com/questions/70607702/how-to-remove-days-from-datetime-date-object', 'votes': -1, 'date': '2022-01-06 13:16:29Z'}, {'title': 'GPU render slower than CPU render in Blender', 'link': 'https://stackoverflow.com/questions/70607701/gpu-render-slower-than-cpu-render-in-blender', 'votes': 0, 'date': '2022-01-06 13:16:27Z'}, {'title': 'How to create an asynchronous REST API in DJango? [closed]', 'link': 'https://stackoverflow.com/questions/70607673/how-to-create-an-asynchronous-rest-api-in-django', 'votes': -3, 'date': '2022-01-06 13:14:25Z'}, {'title': 'tkinter program to insert the button to the Scrollbar area)(inside)', 'link': 'https://stackoverflow.com/questions/70607664/tkinter-program-to-insert-the-button-to-the-scrollbar-areainside', 'votes': 0, 'date': '2022-01-06 13:13:39Z'}, {'title': 'Why do some Python smtplib messages deliver to Gmail spam folder?', 'link': 'https://stackoverflow.com/questions/70607640/why-do-some-python-smtplib-messages-deliver-to-gmail-spam-folder', 'votes': 0, 'date': '2022-01-06 13:12:17Z'}, {'title': 'Passing a value form python file to the iOS app', 'link': 'https://stackoverflow.com/questions/70607609/passing-a-value-form-python-file-to-the-ios-app', 'votes': 0, 'date': '2022-01-06 13:09:55Z'}, {'title': 'Iterating over lists in pandas dataframe to remove everything after certain value (if the value exists) in list', 'link': 'https://stackoverflow.com/questions/70607595/iterating-over-lists-in-pandas-dataframe-to-remove-everything-after-certain-valu', 'votes': 0, 'date': '2022-01-06 13:08:51Z'}]\n",
      "[{'title': 'Edit multiple xml files in different folders', 'link': 'https://stackoverflow.com/questions/70607576/edit-multiple-xml-files-in-different-folders', 'votes': 0, 'date': '2022-01-06 13:07:22Z'}, {'title': 'Groupby lists in Pandas', 'link': 'https://stackoverflow.com/questions/70607562/groupby-lists-in-pandas', 'votes': 1, 'date': '2022-01-06 13:06:04Z'}, {'title': 'Sum of values per column in Spark', 'link': 'https://stackoverflow.com/questions/70607560/sum-of-values-per-column-in-spark', 'votes': -1, 'date': '2022-01-06 13:05:54Z'}, {'title': 'AttributeError on a function', 'link': 'https://stackoverflow.com/questions/70607502/attributeerror-on-a-function', 'votes': -2, 'date': '2022-01-06 13:01:19Z'}, {'title': 'add language in python searching google', 'link': 'https://stackoverflow.com/questions/70607497/add-language-in-python-searching-google', 'votes': -1, 'date': '2022-01-06 13:01:08Z'}, {'title': 'Python Pie chart in Matplotlib or Altair from two categorical data', 'link': 'https://stackoverflow.com/questions/70607476/python-pie-chart-in-matplotlib-or-altair-from-two-categorical-data', 'votes': 0, 'date': '2022-01-06 12:59:10Z'}, {'title': 'Click.Argument does not throw Error for missing argument', 'link': 'https://stackoverflow.com/questions/70607472/click-argument-does-not-throw-error-for-missing-argument', 'votes': 0, 'date': '2022-01-06 12:59:08Z'}, {'title': 'Determine the network interface which a new connection established from - Python socket', 'link': 'https://stackoverflow.com/questions/70607467/determine-the-network-interface-which-a-new-connection-established-from-python', 'votes': 0, 'date': '2022-01-06 12:58:42Z'}, {'title': 'In Python, when I call multiprocessing.Manager() ,console tell me that \"module \\'sys\\' has no attribute \\'argv\\'\"', 'link': 'https://stackoverflow.com/questions/70607460/in-python-when-i-call-multiprocessing-manager-console-tell-me-that-module', 'votes': 0, 'date': '2022-01-06 12:58:05Z'}, {'title': 'Reverse dictionary attributes set to ids?', 'link': 'https://stackoverflow.com/questions/70607437/reverse-dictionary-attributes-set-to-ids', 'votes': -1, 'date': '2022-01-06 12:56:21Z'}, {'title': 'Error in difference between dates in a Pandas DataFrame', 'link': 'https://stackoverflow.com/questions/70607424/error-in-difference-between-dates-in-a-pandas-dataframe', 'votes': 0, 'date': '2022-01-06 12:54:52Z'}, {'title': 'How to find screen coordinates of found text?', 'link': 'https://stackoverflow.com/questions/70607418/how-to-find-screen-coordinates-of-found-text', 'votes': 0, 'date': '2022-01-06 12:54:15Z'}, {'title': 'How to make pie chart subplots from a percentages dataframe in Python?', 'link': 'https://stackoverflow.com/questions/70607411/how-to-make-pie-chart-subplots-from-a-percentages-dataframe-in-python', 'votes': -1, 'date': '2022-01-06 12:53:44Z'}, {'title': 'Change tick text in matplotlib chart', 'link': 'https://stackoverflow.com/questions/70607402/change-tick-text-in-matplotlib-chart', 'votes': 0, 'date': '2022-01-06 12:53:07Z'}, {'title': 'Is it possbile to create a picture from a code 128 with reportlab?', 'link': 'https://stackoverflow.com/questions/70607394/is-it-possbile-to-create-a-picture-from-a-code-128-with-reportlab', 'votes': 0, 'date': '2022-01-06 12:52:04Z'}]\n"
     ]
    },
    {
     "name": "stdout",
     "output_type": "stream",
     "text": [
      "[{'title': 'how to create a plot of a function on the interval 𝑥∈[−12,12]', 'link': 'https://stackoverflow.com/questions/70607390/how-to-create-a-plot-of-a-function-on-the-interval-%e2%88%88%e2%88%9212-12', 'votes': 0, 'date': '2022-01-06 12:51:54Z'}, {'title': 'How to segment a gaussian function to equal-volume parts', 'link': 'https://stackoverflow.com/questions/70607362/how-to-segment-a-gaussian-function-to-equal-volume-parts', 'votes': 1, 'date': '2022-01-06 12:49:48Z'}, {'title': 'Sparse Categorical CrossEntropy causing NAN loss', 'link': 'https://stackoverflow.com/questions/70607355/sparse-categorical-crossentropy-causing-nan-loss', 'votes': 0, 'date': '2022-01-06 12:48:54Z'}, {'title': 'Failed to process SRS definition', 'link': 'https://stackoverflow.com/questions/70607348/failed-to-process-srs-definition', 'votes': 0, 'date': '2022-01-06 12:48:25Z'}, {'title': 'Passing a string variable to pandas dataframe giving KeyError:', 'link': 'https://stackoverflow.com/questions/70607341/passing-a-string-variable-to-pandas-dataframe-giving-keyerror', 'votes': 0, 'date': '2022-01-06 12:48:08Z'}, {'title': 'How to only allow the top frame verticaly stretch', 'link': 'https://stackoverflow.com/questions/70607333/how-to-only-allow-the-top-frame-verticaly-stretch', 'votes': 0, 'date': '2022-01-06 12:47:35Z'}, {'title': 'Calling an async function from a class', 'link': 'https://stackoverflow.com/questions/70607317/calling-an-async-function-from-a-class', 'votes': 0, 'date': '2022-01-06 12:46:29Z'}, {'title': 'United color bar for all subplots in matplotlib', 'link': 'https://stackoverflow.com/questions/70607308/united-color-bar-for-all-subplots-in-matplotlib', 'votes': 0, 'date': '2022-01-06 12:45:59Z'}, {'title': \"How do I specify number of floating point digits in the output of numpy's random function? [duplicate]\", 'link': 'https://stackoverflow.com/questions/70607269/how-do-i-specify-number-of-floating-point-digits-in-the-output-of-numpys-random', 'votes': 0, 'date': '2022-01-06 12:43:29Z'}, {'title': 'Cannot convert python script to exe using pyinstaller due to package not found error', 'link': 'https://stackoverflow.com/questions/70607241/cannot-convert-python-script-to-exe-using-pyinstaller-due-to-package-not-found-e', 'votes': 0, 'date': '2022-01-06 12:40:31Z'}, {'title': \"HuggingFace - 'optimum' ModuleNotFoundError\", 'link': 'https://stackoverflow.com/questions/70607224/huggingface-optimum-modulenotfounderror', 'votes': 0, 'date': '2022-01-06 12:39:23Z'}, {'title': 'Why is this approach to print the frequency of each character of a given string not working?', 'link': 'https://stackoverflow.com/questions/70607216/why-is-this-approach-to-print-the-frequency-of-each-character-of-a-given-string', 'votes': -1, 'date': '2022-01-06 12:38:45Z'}, {'title': 'How to use multithreading to run DHT22 temperature sensor with Tkinter GUI on Python', 'link': 'https://stackoverflow.com/questions/70607215/how-to-use-multithreading-to-run-dht22-temperature-sensor-with-tkinter-gui-on-py', 'votes': 0, 'date': '2022-01-06 12:38:43Z'}, {'title': 'Concatenating strings across two rows in pandas dataframes', 'link': 'https://stackoverflow.com/questions/70607198/concatenating-strings-across-two-rows-in-pandas-dataframes', 'votes': 0, 'date': '2022-01-06 12:36:52Z'}, {'title': 'Adding dependent value gurobi', 'link': 'https://stackoverflow.com/questions/70607197/adding-dependent-value-gurobi', 'votes': 0, 'date': '2022-01-06 12:36:50Z'}]\n",
      "[{'title': 'do I necessarily need a parameter while using the sort function in python? [duplicate]', 'link': 'https://stackoverflow.com/questions/70607188/do-i-necessarily-need-a-parameter-while-using-the-sort-function-in-python', 'votes': -1, 'date': '2022-01-06 12:35:53Z'}, {'title': 'Can I run a cell in a Jupyter notebook while another cell is running?', 'link': 'https://stackoverflow.com/questions/70607175/can-i-run-a-cell-in-a-jupyter-notebook-while-another-cell-is-running', 'votes': 0, 'date': '2022-01-06 12:35:02Z'}, {'title': 'With JSON logs can I merge multiple values under a single key', 'link': 'https://stackoverflow.com/questions/70607150/with-json-logs-can-i-merge-multiple-values-under-a-single-key', 'votes': 0, 'date': '2022-01-06 12:32:54Z'}, {'title': \"Python multiprocessing.pool.MaybeEncodingError cannot pickle 'SSLContext Error\", 'link': 'https://stackoverflow.com/questions/70607149/python-multiprocessing-pool-maybeencodingerror-cannot-pickle-sslcontext-error', 'votes': 0, 'date': '2022-01-06 12:32:53Z'}, {'title': 'Sort elements in list based on length first and alphabetical order second', 'link': 'https://stackoverflow.com/questions/70607146/sort-elements-in-list-based-on-length-first-and-alphabetical-order-second', 'votes': 0, 'date': '2022-01-06 12:32:44Z'}, {'title': 'Why does while loop with keyboard.wait() crash window after some time? [duplicate]', 'link': 'https://stackoverflow.com/questions/70607136/why-does-while-loop-with-keyboard-wait-crash-window-after-some-time', 'votes': 0, 'date': '2022-01-06 12:32:09Z'}, {'title': \"Can't render template, getting page not found (404) Django\", 'link': 'https://stackoverflow.com/questions/70607123/cant-render-template-getting-page-not-found-404-django', 'votes': 0, 'date': '2022-01-06 12:30:48Z'}, {'title': 'How can i store result in cache?', 'link': 'https://stackoverflow.com/questions/70607122/how-can-i-store-result-in-cache', 'votes': 0, 'date': '2022-01-06 12:30:45Z'}, {'title': \"Dash and Plotly plotting color markers doesn't appear to work and\", 'link': 'https://stackoverflow.com/questions/70607071/dash-and-plotly-plotting-color-markers-doesnt-appear-to-work-and', 'votes': 1, 'date': '2022-01-06 12:26:10Z'}, {'title': 'How to integrate the Plotly dash with the flask app. How to connect them?', 'link': 'https://stackoverflow.com/questions/70607065/how-to-integrate-the-plotly-dash-with-the-flask-app-how-to-connect-them', 'votes': 0, 'date': '2022-01-06 12:25:30Z'}, {'title': 'Python eel module doesn`t recognize JS functions', 'link': 'https://stackoverflow.com/questions/70607052/python-eel-module-doesnt-recognize-js-functions', 'votes': 0, 'date': '2022-01-06 12:24:28Z'}, {'title': 'Beautiful Soup cannot find table on iShares', 'link': 'https://stackoverflow.com/questions/70607045/beautiful-soup-cannot-find-table-on-ishares', 'votes': 0, 'date': '2022-01-06 12:23:57Z'}, {'title': 'ipywidget observe printing multiple times while write to file only once', 'link': 'https://stackoverflow.com/questions/70607035/ipywidget-observe-printing-multiple-times-while-write-to-file-only-once', 'votes': 0, 'date': '2022-01-06 12:22:10Z'}, {'title': 'Equivalent of Verbose (in R) to Python [closed]', 'link': 'https://stackoverflow.com/questions/70607028/equivalent-of-verbose-in-r-to-python', 'votes': -3, 'date': '2022-01-06 12:21:43Z'}, {'title': 'Flask api - is there any way to perform some operation on different process and process leave all his occupied memory when ended', 'link': 'https://stackoverflow.com/questions/70607014/flask-api-is-there-any-way-to-perform-some-operation-on-different-process-and', 'votes': 0, 'date': '2022-01-06 12:21:06Z'}]\n",
      "[{'title': 'Python Error: creating Pac-Man video game [closed]', 'link': 'https://stackoverflow.com/questions/70607013/python-error-creating-pac-man-video-game', 'votes': -1, 'date': '2022-01-06 12:21:04Z'}, {'title': 'How to find and read injected script using addScriptToEvaluateOnNewDocument in Browser?', 'link': 'https://stackoverflow.com/questions/70607012/how-to-find-and-read-injected-script-using-addscripttoevaluateonnewdocument-in-b', 'votes': 0, 'date': '2022-01-06 12:20:59Z'}, {'title': 'Searching for specific text in python', 'link': 'https://stackoverflow.com/questions/70606995/searching-for-specific-text-in-python', 'votes': 0, 'date': '2022-01-06 12:19:46Z'}, {'title': 'How to continue a command in Tkinter', 'link': 'https://stackoverflow.com/questions/70606966/how-to-continue-a-command-in-tkinter', 'votes': 0, 'date': '2022-01-06 12:16:58Z'}, {'title': \"Use flask's request context in Dash Plotly\", 'link': 'https://stackoverflow.com/questions/70606921/use-flasks-request-context-in-dash-plotly', 'votes': 0, 'date': '2022-01-06 12:12:49Z'}, {'title': \"Django Unit Test Case for Models, Serializers, URL's & Views\", 'link': 'https://stackoverflow.com/questions/70606896/django-unit-test-case-for-models-serializers-urls-views', 'votes': 0, 'date': '2022-01-06 12:09:01Z'}, {'title': 'Can\\'t receive any data from websocket - Only \"sleeping to keep loop open\"', 'link': 'https://stackoverflow.com/questions/70606891/cant-receive-any-data-from-websocket-only-sleeping-to-keep-loop-open', 'votes': 0, 'date': '2022-01-06 12:08:52Z'}, {'title': 'Select time field dynamically in django forms', 'link': 'https://stackoverflow.com/questions/70606853/select-time-field-dynamically-in-django-forms', 'votes': 0, 'date': '2022-01-06 12:06:06Z'}, {'title': \"ModuleNotFoundError: No module named 'PySide2' while trying to use poetry env\", 'link': 'https://stackoverflow.com/questions/70606849/modulenotfounderror-no-module-named-pyside2-while-trying-to-use-poetry-env', 'votes': 0, 'date': '2022-01-06 12:05:34Z'}, {'title': 'Assigning True/False if a token is present in a data-frame', 'link': 'https://stackoverflow.com/questions/70606847/assigning-true-false-if-a-token-is-present-in-a-data-frame', 'votes': 2, 'date': '2022-01-06 12:05:30Z'}, {'title': 'create a column with values from other columns', 'link': 'https://stackoverflow.com/questions/70606842/create-a-column-with-values-from-other-columns', 'votes': -3, 'date': '2022-01-06 12:05:01Z'}, {'title': 'Delete column and row index from dataframe without changing the pandas dataframe structure', 'link': 'https://stackoverflow.com/questions/70606830/delete-column-and-row-index-from-dataframe-without-changing-the-pandas-dataframe', 'votes': -3, 'date': '2022-01-06 12:04:15Z'}, {'title': 'Select only certain fields from the model using SqlAlchemy Core', 'link': 'https://stackoverflow.com/questions/70606811/select-only-certain-fields-from-the-model-using-sqlalchemy-core', 'votes': 0, 'date': '2022-01-06 12:02:44Z'}, {'title': 'Unable to set list of lists as series onto dataframe column', 'link': 'https://stackoverflow.com/questions/70606792/unable-to-set-list-of-lists-as-series-onto-dataframe-column', 'votes': 0, 'date': '2022-01-06 12:01:09Z'}, {'title': 'Time Distributed Dense Layer Input Shape Problem', 'link': 'https://stackoverflow.com/questions/70606764/time-distributed-dense-layer-input-shape-problem', 'votes': 0, 'date': '2022-01-06 11:59:07Z'}]\n"
     ]
    },
    {
     "name": "stdout",
     "output_type": "stream",
     "text": [
      "[{'title': 'Transform dictionary with ddmmYYYY values into a Dataframe with counts per mmYYYY in columns', 'link': 'https://stackoverflow.com/questions/70606761/transform-dictionary-with-ddmmyyyy-values-into-a-dataframe-with-counts-per-mmyyy', 'votes': 0, 'date': '2022-01-06 11:58:38Z'}, {'title': 'Calculated column based on secondary key in Pandas Dataframe', 'link': 'https://stackoverflow.com/questions/70606755/calculated-column-based-on-secondary-key-in-pandas-dataframe', 'votes': -1, 'date': '2022-01-06 11:58:09Z'}, {'title': \"Persisting Python error: No module named 'google'\", 'link': 'https://stackoverflow.com/questions/70606752/persisting-python-error-no-module-named-google', 'votes': 0, 'date': '2022-01-06 11:57:54Z'}, {'title': 'Convert numpy array from space separated to comma separated in python', 'link': 'https://stackoverflow.com/questions/70606751/convert-numpy-array-from-space-separated-to-comma-separated-in-python', 'votes': 0, 'date': '2022-01-06 11:57:52Z'}, {'title': 'NaNs randomly appearing during training', 'link': 'https://stackoverflow.com/questions/70606733/nans-randomly-appearing-during-training', 'votes': 0, 'date': '2022-01-06 11:55:55Z'}, {'title': 'How to create column based on other column and probably using regex in pandas?', 'link': 'https://stackoverflow.com/questions/70606729/how-to-create-column-based-on-other-column-and-probably-using-regex-in-pandas', 'votes': 0, 'date': '2022-01-06 11:54:51Z'}, {'title': 'How is the Warshall algorithm different from Floyd algorithm in python?', 'link': 'https://stackoverflow.com/questions/70606708/how-is-the-warshall-algorithm-different-from-floyd-algorithm-in-python', 'votes': 0, 'date': '2022-01-06 11:53:22Z'}, {'title': 'How to Index an Image (PIL) type array', 'link': 'https://stackoverflow.com/questions/70606707/how-to-index-an-image-pil-type-array', 'votes': 0, 'date': '2022-01-06 11:53:21Z'}, {'title': 'How get Conditional average on date in DataFraem?', 'link': 'https://stackoverflow.com/questions/70606691/how-get-conditional-average-on-date-in-datafraem', 'votes': 0, 'date': '2022-01-06 11:52:03Z'}, {'title': 'Read and Write JSON online', 'link': 'https://stackoverflow.com/questions/70606686/read-and-write-json-online', 'votes': -1, 'date': '2022-01-06 11:51:30Z'}, {'title': 'LIGHTGBM pickle output not working with multiple SANIC workers (>1) but working with single worker', 'link': 'https://stackoverflow.com/questions/70606674/lightgbm-pickle-output-not-working-with-multiple-sanic-workers-1-but-working', 'votes': 0, 'date': '2022-01-06 11:50:28Z'}, {'title': 'Solving \"CUDA out of memory\" when fine-tuning GPT-2 (HuggingFace)', 'link': 'https://stackoverflow.com/questions/70606666/solving-cuda-out-of-memory-when-fine-tuning-gpt-2-huggingface', 'votes': 0, 'date': '2022-01-06 11:49:14Z'}, {'title': 'Unable to find bug in countdown timer', 'link': 'https://stackoverflow.com/questions/70606664/unable-to-find-bug-in-countdown-timer', 'votes': -1, 'date': '2022-01-06 11:48:57Z'}, {'title': 'Importing a package module, created in Pypi, results in module not found', 'link': 'https://stackoverflow.com/questions/70606652/importing-a-package-module-created-in-pypi-results-in-module-not-found', 'votes': 0, 'date': '2022-01-06 11:47:45Z'}, {'title': 'How to group these base on same address?', 'link': 'https://stackoverflow.com/questions/70606650/how-to-group-these-base-on-same-address', 'votes': 0, 'date': '2022-01-06 11:47:36Z'}]\n"
     ]
    }
   ],
   "source": [
    "for x in range(1,11):\n",
    "    getQuestions3('python',x)\n",
    "\n",
    "# created 10 different lists - not desired - so we go with Global variable"
   ]
  },
  {
   "cell_type": "code",
   "execution_count": null,
   "id": "bafa0179",
   "metadata": {},
   "outputs": [],
   "source": []
  },
  {
   "cell_type": "code",
   "execution_count": null,
   "id": "c9e1bfc2",
   "metadata": {},
   "outputs": [],
   "source": []
  },
  {
   "cell_type": "code",
   "execution_count": null,
   "id": "806dde4c",
   "metadata": {},
   "outputs": [],
   "source": []
  },
  {
   "cell_type": "code",
   "execution_count": null,
   "id": "fa271270",
   "metadata": {},
   "outputs": [],
   "source": []
  },
  {
   "cell_type": "code",
   "execution_count": null,
   "id": "f4ee7bf9",
   "metadata": {},
   "outputs": [],
   "source": []
  },
  {
   "cell_type": "code",
   "execution_count": null,
   "id": "8ee73273",
   "metadata": {},
   "outputs": [],
   "source": []
  },
  {
   "cell_type": "code",
   "execution_count": null,
   "id": "0063400b",
   "metadata": {},
   "outputs": [],
   "source": []
  },
  {
   "cell_type": "code",
   "execution_count": null,
   "id": "370b69c4",
   "metadata": {},
   "outputs": [],
   "source": []
  },
  {
   "cell_type": "code",
   "execution_count": null,
   "id": "8d8292ef",
   "metadata": {},
   "outputs": [],
   "source": []
  }
 ],
 "metadata": {
  "kernelspec": {
   "display_name": "Python 3 (ipykernel)",
   "language": "python",
   "name": "python3"
  },
  "language_info": {
   "codemirror_mode": {
    "name": "ipython",
    "version": 3
   },
   "file_extension": ".py",
   "mimetype": "text/x-python",
   "name": "python",
   "nbconvert_exporter": "python",
   "pygments_lexer": "ipython3",
   "version": "3.9.7"
  },
  "varInspector": {
   "cols": {
    "lenName": 16,
    "lenType": 16,
    "lenVar": 40
   },
   "kernels_config": {
    "python": {
     "delete_cmd_postfix": "",
     "delete_cmd_prefix": "del ",
     "library": "var_list.py",
     "varRefreshCmd": "print(var_dic_list())"
    },
    "r": {
     "delete_cmd_postfix": ") ",
     "delete_cmd_prefix": "rm(",
     "library": "var_list.r",
     "varRefreshCmd": "cat(var_dic_list()) "
    }
   },
   "types_to_exclude": [
    "module",
    "function",
    "builtin_function_or_method",
    "instance",
    "_Feature"
   ],
   "window_display": false
  }
 },
 "nbformat": 4,
 "nbformat_minor": 5
}
